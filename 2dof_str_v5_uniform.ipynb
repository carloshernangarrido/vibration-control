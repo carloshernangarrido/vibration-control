{
  "nbformat": 4,
  "nbformat_minor": 0,
  "metadata": {
    "colab": {
      "provenance": [],
      "collapsed_sections": [
        "C1RWOSCgfLh2",
        "Gw9xVj3K2p_J",
        "yGLxLYgt3QTz",
        "60yRa9qr33R5",
        "-zUeJQq87LVK",
        "fD9awfHu6Ews"
      ],
      "authorship_tag": "ABX9TyMv0GrsHQgs5oD14aO6WgTG",
      "include_colab_link": true
    },
    "kernelspec": {
      "name": "python3",
      "display_name": "Python 3"
    },
    "language_info": {
      "name": "python"
    }
  },
  "cells": [
    {
      "cell_type": "markdown",
      "metadata": {
        "id": "view-in-github",
        "colab_type": "text"
      },
      "source": [
        "<a href=\"https://colab.research.google.com/github/carloshernangarrido/vibration-control/blob/master/2dof_str_v5_uniform.ipynb\" target=\"_parent\"><img src=\"https://colab.research.google.com/assets/colab-badge.svg\" alt=\"Open In Colab\"/></a>"
      ]
    },
    {
      "cell_type": "markdown",
      "source": [
        "# Packages"
      ],
      "metadata": {
        "id": "ltJVHAH6c_a1"
      }
    },
    {
      "cell_type": "code",
      "source": [
        "%reset -f\n",
        "\n",
        "from typing import List, Union\n",
        "import copy\n",
        "\n",
        "# file handling\n",
        "import os\n",
        "import pickle\n",
        "from google.colab import drive\n",
        "drive.mount('/content/drive')\n",
        "path = '/content/drive/My Drive/TRABAJO/46_cm_inerter/TRABAJO/'\n",
        "\n",
        "# For simulation\n",
        "import sympy as sm\n",
        "import numpy as np # provides basic array types and some linear algebra\n",
        "import matplotlib.pyplot as plt # used for plots\n",
        "\n",
        "# For transfer function and state space representations\n",
        "import scipy as sp\n",
        "import scipy.signal as sg\n",
        "eps = 1e-6"
      ],
      "metadata": {
        "id": "5N_wO4ljc87r",
        "colab": {
          "base_uri": "https://localhost:8080/"
        },
        "outputId": "b5b20f20-f288-45c8-f1f9-7e1bfe9e3177"
      },
      "execution_count": 1,
      "outputs": [
        {
          "output_type": "stream",
          "name": "stdout",
          "text": [
            "Mounted at /content/drive\n"
          ]
        }
      ]
    },
    {
      "cell_type": "markdown",
      "source": [
        "# System definition"
      ],
      "metadata": {
        "id": "RRKrWBaweguI"
      }
    },
    {
      "cell_type": "markdown",
      "source": [
        "## Structural Equation Of Motion"
      ],
      "metadata": {
        "id": "Gq0988pgQPi8"
      }
    },
    {
      "cell_type": "code",
      "source": [
        "# mass, stiffness and damping\n",
        "m1, c1, k1, m2, c12, k12, t = sm.symbols('m1, c1, k1, m2, c12, k12, t')\n",
        "# inertance\n",
        "b1, b12 = sm.symbols('b1, b12')\n",
        "\n",
        "# mass, stiffness and damping matrices\n",
        "M_s = sm.Matrix([[m1 + b1 + b12, -b12],\n",
        "                 [-b12,           m2 + b12]])\n",
        "\n",
        "K_s = sm.Matrix([[k1 + k12, -k12],\n",
        "                 [-k12,      k12]])\n",
        "\n",
        "C_s = sm.Matrix([[c1 + c12, -c12],\n",
        "                 [-c12,      c12]])\n",
        "\n",
        "# Seismic excitation matrix\n",
        "B_s = sm.Matrix([[m1],\n",
        "                 [m2]])"
      ],
      "metadata": {
        "id": "S9k6g87uem-a"
      },
      "execution_count": 2,
      "outputs": []
    },
    {
      "cell_type": "code",
      "source": [
        "print(\"M_s =\", sm.latex(M_s.subs({b1: 0})))\n",
        "sm.simplify(M_s)"
      ],
      "metadata": {
        "colab": {
          "base_uri": "https://localhost:8080/",
          "height": 75
        },
        "id": "n1aJhzIGwAfu",
        "outputId": "0a7f7964-8d2a-4938-8dcd-256a568491c3"
      },
      "execution_count": 3,
      "outputs": [
        {
          "output_type": "stream",
          "name": "stdout",
          "text": [
            "M_s = \\left[\\begin{matrix}b_{12} + m_{1} & - b_{12}\\\\- b_{12} & b_{12} + m_{2}\\end{matrix}\\right]\n"
          ]
        },
        {
          "output_type": "execute_result",
          "data": {
            "text/plain": [
              "Matrix([\n",
              "[b1 + b12 + m1,     -b12],\n",
              "[         -b12, b12 + m2]])"
            ],
            "text/latex": "$\\displaystyle \\left[\\begin{matrix}b_{1} + b_{12} + m_{1} & - b_{12}\\\\- b_{12} & b_{12} + m_{2}\\end{matrix}\\right]$"
          },
          "metadata": {},
          "execution_count": 3
        }
      ]
    },
    {
      "cell_type": "code",
      "source": [
        "print(\"K_s =\", sm.latex(K_s))\n",
        "sm.simplify(K_s)"
      ],
      "metadata": {
        "colab": {
          "base_uri": "https://localhost:8080/",
          "height": 75
        },
        "id": "feBo9dgewGQA",
        "outputId": "1c652fc1-9046-4d08-eb01-d9bd5a341f72"
      },
      "execution_count": 4,
      "outputs": [
        {
          "output_type": "stream",
          "name": "stdout",
          "text": [
            "K_s = \\left[\\begin{matrix}k_{1} + k_{12} & - k_{12}\\\\- k_{12} & k_{12}\\end{matrix}\\right]\n"
          ]
        },
        {
          "output_type": "execute_result",
          "data": {
            "text/plain": [
              "Matrix([\n",
              "[k1 + k12, -k12],\n",
              "[    -k12,  k12]])"
            ],
            "text/latex": "$\\displaystyle \\left[\\begin{matrix}k_{1} + k_{12} & - k_{12}\\\\- k_{12} & k_{12}\\end{matrix}\\right]$"
          },
          "metadata": {},
          "execution_count": 4
        }
      ]
    },
    {
      "cell_type": "code",
      "source": [
        "print(\"C_s =\", sm.latex(C_s))\n",
        "sm.simplify(C_s)"
      ],
      "metadata": {
        "colab": {
          "base_uri": "https://localhost:8080/",
          "height": 75
        },
        "id": "xYWOFssPwGos",
        "outputId": "d8c8a379-0aff-4783-e183-2aa1e9713ead"
      },
      "execution_count": 5,
      "outputs": [
        {
          "output_type": "stream",
          "name": "stdout",
          "text": [
            "C_s = \\left[\\begin{matrix}c_{1} + c_{12} & - c_{12}\\\\- c_{12} & c_{12}\\end{matrix}\\right]\n"
          ]
        },
        {
          "output_type": "execute_result",
          "data": {
            "text/plain": [
              "Matrix([\n",
              "[c1 + c12, -c12],\n",
              "[    -c12,  c12]])"
            ],
            "text/latex": "$\\displaystyle \\left[\\begin{matrix}c_{1} + c_{12} & - c_{12}\\\\- c_{12} & c_{12}\\end{matrix}\\right]$"
          },
          "metadata": {},
          "execution_count": 5
        }
      ]
    },
    {
      "cell_type": "markdown",
      "source": [
        "## State space representation"
      ],
      "metadata": {
        "id": "jEwwQkXe0cfS"
      }
    },
    {
      "cell_type": "code",
      "source": [
        "# State space\n",
        "# System matrix\n",
        "A = sm.Matrix([[sm.zeros(2,2), sm.eye(2)], \n",
        "               [-M_s.inv()*K_s,    -M_s.inv()*C_s]])\n",
        "# Seismic Input Matrix\n",
        "B = sm.Matrix([[sm.zeros(2,1)],\n",
        "               [-M_s.inv()*B_s]])\n",
        "# Story drift Output Matrix\n",
        "C = sm.Matrix([[1,  0, 0, 0],\n",
        "               [-1, 1, 0, 0]])\n",
        "# Direct Transfer Matrix\n",
        "D = sm.Matrix([[0],\n",
        "               [0]])"
      ],
      "metadata": {
        "id": "A20-nfQehY9p"
      },
      "execution_count": 6,
      "outputs": []
    },
    {
      "cell_type": "code",
      "source": [
        "sm.simplify(A)"
      ],
      "metadata": {
        "id": "XBhWL1z1Onwa",
        "colab": {
          "base_uri": "https://localhost:8080/",
          "height": 108
        },
        "outputId": "951b3380-3cf1-4ede-b22b-557512aca668"
      },
      "execution_count": 7,
      "outputs": [
        {
          "output_type": "execute_result",
          "data": {
            "text/plain": [
              "Matrix([\n",
              "[                                                                           0,                                                         0,                                                                            1,                                                         0],\n",
              "[                                                                           0,                                                         0,                                                                            0,                                                         1],\n",
              "[(b12*k12 - (b12 + m2)*(k1 + k12))/(b1*b12 + b1*m2 + b12*m1 + b12*m2 + m1*m2),         k12*m2/(b1*b12 + b1*m2 + b12*m1 + b12*m2 + m1*m2), (b12*c12 - (b12 + m2)*(c1 + c12))/(b1*b12 + b1*m2 + b12*m1 + b12*m2 + m1*m2),         c12*m2/(b1*b12 + b1*m2 + b12*m1 + b12*m2 + m1*m2)],\n",
              "[       (b1*k12 - b12*k1 + k12*m1)/(b1*b12 + b1*m2 + b12*m1 + b12*m2 + m1*m2), -k12*(b1 + m1)/(b1*b12 + b1*m2 + b12*m1 + b12*m2 + m1*m2),        (b1*c12 - b12*c1 + c12*m1)/(b1*b12 + b1*m2 + b12*m1 + b12*m2 + m1*m2), -c12*(b1 + m1)/(b1*b12 + b1*m2 + b12*m1 + b12*m2 + m1*m2)]])"
            ],
            "text/latex": "$\\displaystyle \\left[\\begin{matrix}0 & 0 & 1 & 0\\\\0 & 0 & 0 & 1\\\\\\frac{b_{12} k_{12} - \\left(b_{12} + m_{2}\\right) \\left(k_{1} + k_{12}\\right)}{b_{1} b_{12} + b_{1} m_{2} + b_{12} m_{1} + b_{12} m_{2} + m_{1} m_{2}} & \\frac{k_{12} m_{2}}{b_{1} b_{12} + b_{1} m_{2} + b_{12} m_{1} + b_{12} m_{2} + m_{1} m_{2}} & \\frac{b_{12} c_{12} - \\left(b_{12} + m_{2}\\right) \\left(c_{1} + c_{12}\\right)}{b_{1} b_{12} + b_{1} m_{2} + b_{12} m_{1} + b_{12} m_{2} + m_{1} m_{2}} & \\frac{c_{12} m_{2}}{b_{1} b_{12} + b_{1} m_{2} + b_{12} m_{1} + b_{12} m_{2} + m_{1} m_{2}}\\\\\\frac{b_{1} k_{12} - b_{12} k_{1} + k_{12} m_{1}}{b_{1} b_{12} + b_{1} m_{2} + b_{12} m_{1} + b_{12} m_{2} + m_{1} m_{2}} & - \\frac{k_{12} \\left(b_{1} + m_{1}\\right)}{b_{1} b_{12} + b_{1} m_{2} + b_{12} m_{1} + b_{12} m_{2} + m_{1} m_{2}} & \\frac{b_{1} c_{12} - b_{12} c_{1} + c_{12} m_{1}}{b_{1} b_{12} + b_{1} m_{2} + b_{12} m_{1} + b_{12} m_{2} + m_{1} m_{2}} & - \\frac{c_{12} \\left(b_{1} + m_{1}\\right)}{b_{1} b_{12} + b_{1} m_{2} + b_{12} m_{1} + b_{12} m_{2} + m_{1} m_{2}}\\end{matrix}\\right]$"
          },
          "metadata": {},
          "execution_count": 7
        }
      ]
    },
    {
      "cell_type": "code",
      "source": [
        "sm.simplify(B)"
      ],
      "metadata": {
        "id": "15IdRn0Lna0O",
        "colab": {
          "base_uri": "https://localhost:8080/",
          "height": 108
        },
        "outputId": "f35d0e52-d46d-45e0-f5fe-d4b5fd0378b4"
      },
      "execution_count": 8,
      "outputs": [
        {
          "output_type": "execute_result",
          "data": {
            "text/plain": [
              "Matrix([\n",
              "[                                                                        0],\n",
              "[                                                                        0],\n",
              "[     -(b12*m2 + m1*(b12 + m2))/(b1*b12 + b1*m2 + b12*m1 + b12*m2 + m1*m2)],\n",
              "[-(b12*m1 + m2*(b1 + b12 + m1))/(b1*b12 + b1*m2 + b12*m1 + b12*m2 + m1*m2)]])"
            ],
            "text/latex": "$\\displaystyle \\left[\\begin{matrix}0\\\\0\\\\- \\frac{b_{12} m_{2} + m_{1} \\left(b_{12} + m_{2}\\right)}{b_{1} b_{12} + b_{1} m_{2} + b_{12} m_{1} + b_{12} m_{2} + m_{1} m_{2}}\\\\- \\frac{b_{12} m_{1} + m_{2} \\left(b_{1} + b_{12} + m_{1}\\right)}{b_{1} b_{12} + b_{1} m_{2} + b_{12} m_{1} + b_{12} m_{2} + m_{1} m_{2}}\\end{matrix}\\right]$"
          },
          "metadata": {},
          "execution_count": 8
        }
      ]
    },
    {
      "cell_type": "code",
      "source": [
        "sm.simplify(C)"
      ],
      "metadata": {
        "id": "R0rIIlRpOp_V",
        "colab": {
          "base_uri": "https://localhost:8080/",
          "height": 58
        },
        "outputId": "050f6406-4f88-498d-d337-e78b4b450dcb"
      },
      "execution_count": 9,
      "outputs": [
        {
          "output_type": "execute_result",
          "data": {
            "text/plain": [
              "Matrix([\n",
              "[ 1, 0, 0, 0],\n",
              "[-1, 1, 0, 0]])"
            ],
            "text/latex": "$\\displaystyle \\left[\\begin{matrix}1 & 0 & 0 & 0\\\\-1 & 1 & 0 & 0\\end{matrix}\\right]$"
          },
          "metadata": {},
          "execution_count": 9
        }
      ]
    },
    {
      "cell_type": "code",
      "source": [
        "sm.simplify(D)"
      ],
      "metadata": {
        "id": "bShps-y_V5sa",
        "colab": {
          "base_uri": "https://localhost:8080/",
          "height": 58
        },
        "outputId": "9d95a9a1-280a-4c53-c71d-1636072a84de"
      },
      "execution_count": 10,
      "outputs": [
        {
          "output_type": "execute_result",
          "data": {
            "text/plain": [
              "Matrix([\n",
              "[0],\n",
              "[0]])"
            ],
            "text/latex": "$\\displaystyle \\left[\\begin{matrix}0\\\\0\\end{matrix}\\right]$"
          },
          "metadata": {},
          "execution_count": 10
        }
      ]
    },
    {
      "cell_type": "code",
      "source": [
        "# # Check equations of motion\n",
        "# s, x1, x2, u, fs1, fs2 = sm.symbols(['s', 'x1', 'x2', 'u', 'fs1', 'fs2'])\n",
        "# x1_dot, x2_dot, x1_ddot, x2_ddot = sm.symbols(['x1_dot', 'x2_dot', 'x1_ddot', 'x2_ddot'])\n",
        "# x = sm.Matrix([[x1],\n",
        "#                [x2],\n",
        "#                [x1_dot],\n",
        "#                [x2_dot],])\n",
        "# I = sm.Matrix(np.eye(4))\n",
        "# A_simple = A.subs({'b1': 0, 'b12': 0})\n",
        "# B_simple = B.subs({'b1': 0, 'b12': 0})\n",
        "\n",
        "# x_dot = A_simple * x + B_simple * u\n",
        "# fs1, fs2 = -m1*u, -m2*u\n",
        "# eq1 = x1_ddot - x_dot[2]\n",
        "# eq2 = x2_ddot - x_dot[3]\n",
        "# print(sm.solve(eq1, u))\n",
        "# print(sm.solve(eq2, u))"
      ],
      "metadata": {
        "id": "ft0PhK85W4x6"
      },
      "execution_count": 11,
      "outputs": []
    },
    {
      "cell_type": "markdown",
      "source": [
        "## Frequency domain"
      ],
      "metadata": {
        "id": "G0xwFeyqQyjJ"
      }
    },
    {
      "cell_type": "markdown",
      "source": [
        "### Classes"
      ],
      "metadata": {
        "id": "C1RWOSCgfLh2"
      }
    },
    {
      "cell_type": "code",
      "source": [
        "class TF:\n",
        "  def __init__(self, A, B, C, D, \n",
        "               w = np.linspace(0, 10, 10000)):\n",
        "    self.w = w\n",
        "    self.A = A\n",
        "    self.B = B\n",
        "    self.C = C\n",
        "    self.D = D\n",
        "\n",
        "  def subs(self, i_output=None, parameters=None):\n",
        "    i_output = self.i_output if i_output is None else i_output\n",
        "    parameters = self.parameters if parameters is None else parameters\n",
        "    self.i_output = i_output\n",
        "    self.parameters = parameters\n",
        "    self.A_num = np.array(self.A.subs(parameters), dtype=float)\n",
        "    self.B_num = np.array(self.B.subs(parameters), dtype=float)\n",
        "    self.C_num = np.array(self.C.subs(parameters), dtype=float)\n",
        "    self.D_num = np.array(self.D.subs(parameters), dtype=float)\n",
        "    self._num, self.den = sg.ss2tf(self.A_num, self.B_num, \n",
        "                                  self.C_num[i_output], self.D_num[i_output])\n",
        "    for i, coef in enumerate(self._num[0]):\n",
        "      if abs(coef) > eps:\n",
        "        break\n",
        "    self.num = self._num[0, i:]              \n",
        "    self._tf = sg.lti(self.num, self.den)\n",
        "    self._freqresp_w, self._freqresp_H = self._tf.freqresp(w=self.w)\n",
        "    return self\n",
        "    \n",
        "  def H_inf(self, i_output=None, parameters=None):\n",
        "    i_output = self.i_output if i_output is None else i_output\n",
        "    parameters = self.parameters if parameters is None else parameters\n",
        "    self.subs(i_output, parameters)\n",
        "    return np.linalg.norm(self._freqresp_H, ord=np.inf)\n",
        "\n",
        "  def H_2(self, i_output=None, parameters=None):\n",
        "    i_output = self.i_output if i_output is None else i_output\n",
        "    parameters = self.parameters if parameters is None else parameters\n",
        "    self.subs(i_output, parameters)\n",
        "    return np.linalg.norm(self._freqresp_H, ord=2)\n",
        "\n",
        "  def natural_w(self, parameters, damped=True):\n",
        "    parameters = self.parameters if parameters is None else parameters\n",
        "    self.subs(0, parameters)\n",
        "    if damped is True:\n",
        "      return np.sort(np.array(list(set(np.abs(np.imag(np.linalg.eigvals(self.A_num)))))))\n",
        "    else:\n",
        "      return np.sort(np.array(list(set(np.abs(np.linalg.eigvals(self.A_num))))))\n",
        "\n"
      ],
      "metadata": {
        "id": "4AtvuWHpfNeh"
      },
      "execution_count": 12,
      "outputs": []
    },
    {
      "cell_type": "markdown",
      "source": [
        "### Analytical study"
      ],
      "metadata": {
        "id": "X6vZ8RmCVGqi"
      }
    },
    {
      "cell_type": "code",
      "source": [
        "# Analytical Transfer function\n",
        "s = sm.Symbol('s')\n",
        "tf_anal = C*sm.Matrix.inv(s*sm.Matrix.eye(4, 4) - A)*B + D\n",
        "\n",
        "# undamped original structure and first floor elastic only\n",
        "tf_anal_b1c1zero = sm.simplify(tf_anal.subs({b1: 0, c1: 0}))\n",
        "tf_anal_b1c1zero[0]\n"
      ],
      "metadata": {
        "id": "bLq-USf-VKXp",
        "outputId": "39e3ec1f-6dee-41a3-fc5a-92b4625ae36b",
        "colab": {
          "base_uri": "https://localhost:8080/",
          "height": 56
        }
      },
      "execution_count": 13,
      "outputs": [
        {
          "output_type": "execute_result",
          "data": {
            "text/plain": [
              "-(b12*m1*s**2 + b12*m2*s**2 + c12*m1*s + c12*m2*s + k12*m1 + k12*m2 + m1*m2*s**2)/(b12*k1*s**2 + b12*m1*s**4 + b12*m2*s**4 + c12*k1*s + c12*m1*s**3 + c12*m2*s**3 + k1*k12 + k1*m2*s**2 + k12*m1*s**2 + k12*m2*s**2 + m1*m2*s**4)"
            ],
            "text/latex": "$\\displaystyle - \\frac{b_{12} m_{1} s^{2} + b_{12} m_{2} s^{2} + c_{12} m_{1} s + c_{12} m_{2} s + k_{12} m_{1} + k_{12} m_{2} + m_{1} m_{2} s^{2}}{b_{12} k_{1} s^{2} + b_{12} m_{1} s^{4} + b_{12} m_{2} s^{4} + c_{12} k_{1} s + c_{12} m_{1} s^{3} + c_{12} m_{2} s^{3} + k_{1} k_{12} + k_{1} m_{2} s^{2} + k_{12} m_{1} s^{2} + k_{12} m_{2} s^{2} + m_{1} m_{2} s^{4}}$"
          },
          "metadata": {},
          "execution_count": 13
        }
      ]
    },
    {
      "cell_type": "code",
      "source": [
        "# Harmonic excitation\n",
        "omega = sm.Symbol('omega', rational=True)\n",
        "tf_anal_b1c1zero_omega = sm.simplify(tf_anal_b1c1zero.subs({s: sm.I*omega}))\n",
        "print(sm.latex(sm.collect(tf_anal_b1c1zero_omega[0], omega)))\n",
        "sm.collect(tf_anal_b1c1zero_omega[0], omega)"
      ],
      "metadata": {
        "colab": {
          "base_uri": "https://localhost:8080/",
          "height": 95
        },
        "id": "Os4wH1uTwZ6-",
        "outputId": "3dbc6f6f-b1dd-45de-89d6-a51e08e663b6"
      },
      "execution_count": 14,
      "outputs": [
        {
          "output_type": "stream",
          "name": "stdout",
          "text": [
            "\\frac{k_{12} m_{1} + k_{12} m_{2} + \\omega^{2} \\left(- b_{12} m_{1} - b_{12} m_{2} - m_{1} m_{2}\\right) + \\omega \\left(i c_{12} m_{1} + i c_{12} m_{2}\\right)}{- i c_{12} k_{1} \\omega - k_{1} k_{12} + \\omega^{4} \\left(- b_{12} m_{1} - b_{12} m_{2} - m_{1} m_{2}\\right) + \\omega^{3} \\left(i c_{12} m_{1} + i c_{12} m_{2}\\right) + \\omega^{2} \\left(b_{12} k_{1} + k_{1} m_{2} + k_{12} m_{1} + k_{12} m_{2}\\right)}\n"
          ]
        },
        {
          "output_type": "execute_result",
          "data": {
            "text/plain": [
              "(k12*m1 + k12*m2 + omega**2*(-b12*m1 - b12*m2 - m1*m2) + omega*(I*c12*m1 + I*c12*m2))/(-I*c12*k1*omega - k1*k12 + omega**4*(-b12*m1 - b12*m2 - m1*m2) + omega**3*(I*c12*m1 + I*c12*m2) + omega**2*(b12*k1 + k1*m2 + k12*m1 + k12*m2))"
            ],
            "text/latex": "$\\displaystyle \\frac{k_{12} m_{1} + k_{12} m_{2} + \\omega^{2} \\left(- b_{12} m_{1} - b_{12} m_{2} - m_{1} m_{2}\\right) + \\omega \\left(i c_{12} m_{1} + i c_{12} m_{2}\\right)}{- i c_{12} k_{1} \\omega - k_{1} k_{12} + \\omega^{4} \\left(- b_{12} m_{1} - b_{12} m_{2} - m_{1} m_{2}\\right) + \\omega^{3} \\left(i c_{12} m_{1} + i c_{12} m_{2}\\right) + \\omega^{2} \\left(b_{12} k_{1} + k_{1} m_{2} + k_{12} m_{1} + k_{12} m_{2}\\right)}$"
          },
          "metadata": {},
          "execution_count": 14
        }
      ]
    },
    {
      "cell_type": "code",
      "source": [
        "print(sm.latex(sm.collect(tf_anal_b1c1zero_omega[1], omega)))\n",
        "sm.collect(tf_anal_b1c1zero_omega[0], omega)"
      ],
      "metadata": {
        "colab": {
          "base_uri": "https://localhost:8080/",
          "height": 95
        },
        "id": "_hU1qf0bHLTB",
        "outputId": "087ab2b8-06ee-417c-8f28-7783c8c4bd50"
      },
      "execution_count": 15,
      "outputs": [
        {
          "output_type": "stream",
          "name": "stdout",
          "text": [
            "\\frac{k_{1} m_{2}}{- i c_{12} k_{1} \\omega - k_{1} k_{12} + \\omega^{4} \\left(- b_{12} m_{1} - b_{12} m_{2} - m_{1} m_{2}\\right) + \\omega^{3} \\left(i c_{12} m_{1} + i c_{12} m_{2}\\right) + \\omega^{2} \\left(b_{12} k_{1} + k_{1} m_{2} + k_{12} m_{1} + k_{12} m_{2}\\right)}\n"
          ]
        },
        {
          "output_type": "execute_result",
          "data": {
            "text/plain": [
              "(k12*m1 + k12*m2 + omega**2*(-b12*m1 - b12*m2 - m1*m2) + omega*(I*c12*m1 + I*c12*m2))/(-I*c12*k1*omega - k1*k12 + omega**4*(-b12*m1 - b12*m2 - m1*m2) + omega**3*(I*c12*m1 + I*c12*m2) + omega**2*(b12*k1 + k1*m2 + k12*m1 + k12*m2))"
            ],
            "text/latex": "$\\displaystyle \\frac{k_{12} m_{1} + k_{12} m_{2} + \\omega^{2} \\left(- b_{12} m_{1} - b_{12} m_{2} - m_{1} m_{2}\\right) + \\omega \\left(i c_{12} m_{1} + i c_{12} m_{2}\\right)}{- i c_{12} k_{1} \\omega - k_{1} k_{12} + \\omega^{4} \\left(- b_{12} m_{1} - b_{12} m_{2} - m_{1} m_{2}\\right) + \\omega^{3} \\left(i c_{12} m_{1} + i c_{12} m_{2}\\right) + \\omega^{2} \\left(b_{12} k_{1} + k_{1} m_{2} + k_{12} m_{1} + k_{12} m_{2}\\right)}$"
          },
          "metadata": {},
          "execution_count": 15
        }
      ]
    },
    {
      "cell_type": "markdown",
      "source": [
        "#### Dimensional analysis"
      ],
      "metadata": {
        "id": "-XVk4GBrzWfK"
      }
    },
    {
      "cell_type": "code",
      "source": [
        "# Matrix dimensional analysis\n",
        "#                    M    L   T\n",
        "dim_mat = np.array([[0, 1-1,  2], # H\n",
        "                    [1, 1-1, -2], # k1\n",
        "                    [1, 1-1, -2], # k12\n",
        "                    [1,   0,  0], # m1\n",
        "                    [1,   0,  0], # m2\n",
        "                    [1,   0,  0], # b12\n",
        "                    [1, 1-1,1-2], # c12\n",
        "                    [0,   0, -1]] # omega\n",
        "                   ).T\n",
        "print(dim_mat)\n",
        "print('rank of dim_mat = ', np.linalg.matrix_rank(dim_mat))\n",
        "print('nullity of dim_mat = ', dim_mat.shape[1] - np.linalg.matrix_rank(dim_mat))\n"
      ],
      "metadata": {
        "colab": {
          "base_uri": "https://localhost:8080/"
        },
        "id": "1QMtpdzcltl9",
        "outputId": "1c53069d-6c06-4482-ebb0-2682f001283d"
      },
      "execution_count": 16,
      "outputs": [
        {
          "output_type": "stream",
          "name": "stdout",
          "text": [
            "[[ 0  1  1  1  1  1  1  0]\n",
            " [ 0  0  0  0  0  0  0  0]\n",
            " [ 2 -2 -2  0  0  0 -1 -1]]\n",
            "rank of dim_mat =  2\n",
            "nullity of dim_mat =  6\n"
          ]
        }
      ]
    },
    {
      "cell_type": "code",
      "source": [
        "omega0 = sm.Symbol('omega0', real=True, positive=True)\n",
        "zeta = sm.Symbol('zeta', real=True, positive=True)\n",
        "mu = sm.Symbol('mu', real=True, positive=True)\n",
        "beta = sm.Symbol('beta', real=True, positive=True)\n",
        "alpha_k = sm.Symbol('alpha_k', real=True, positive=True)\n",
        "mu_m = sm.Symbol('mu_m', real=True, positive=True)\n",
        "normalization_dict = {b12: m1*mu, \n",
        "                      k1: m1*omega0**2, \n",
        "                      c12: 2*m2*omega0*zeta, \n",
        "                      k12: sm.solve(alpha_k**2 - (k12/m2) / (omega0**2), k12)[0],  \n",
        "                      m2: sm.solve(mu_m - (m2/m1), m2)[0],\n",
        "                      omega: omega0*beta}\n",
        "tf_anal_b1c1zero_omega_norm = tf_anal_b1c1zero_omega.subs(normalization_dict)\n",
        "tf_anal_b1c1zero_omega_norm = sm.factor(tf_anal_b1c1zero_omega_norm[0], \n",
        "                                        m1, k1)\n",
        "tf_anal_b1c1zero_omega_norm = sm.collect(tf_anal_b1c1zero_omega_norm, beta)\n",
        "tf_anal_b1c1zero_omega_norm = sm.collect(tf_anal_b1c1zero_omega_norm, mu_m)\n",
        "tf_anal_b1c1zero_omega_norm = sm.collect(tf_anal_b1c1zero_omega_norm, 2*sm.I*mu_m*zeta)\n",
        "\n",
        "print(sm.latex(tf_anal_b1c1zero_omega_norm))\n",
        "tf_anal_b1c1zero_omega_norm"
      ],
      "metadata": {
        "id": "E7ScSFADxNOC",
        "colab": {
          "base_uri": "https://localhost:8080/",
          "height": 96
        },
        "outputId": "3a186f42-2f3d-4ab6-ce39-88d96d73167e"
      },
      "execution_count": 17,
      "outputs": [
        {
          "output_type": "stream",
          "name": "stdout",
          "text": [
            "\\frac{\\alpha_{k}^{2} \\mu_{m}^{2} + \\alpha_{k}^{2} \\mu_{m} + \\beta^{2} \\left(- \\mu + \\mu_{m} \\left(- \\mu - 1\\right)\\right) + 2 i \\beta \\mu_{m} \\zeta \\left(\\mu_{m} + 1\\right)}{\\omega_{0}^{2} \\left(\\beta^{4} \\left(- \\mu + \\mu_{m} \\left(- \\mu - 1\\right)\\right) + 2 i \\beta^{3} \\mu_{m} \\zeta \\left(\\mu_{m} + 1\\right) + \\beta^{2} \\left(\\alpha_{k}^{2} \\mu_{m}^{2} + \\mu + \\mu_{m} \\left(\\alpha_{k}^{2} + 1\\right)\\right) + \\mu_{m} \\left(- \\alpha_{k}^{2} - 2 i \\beta \\zeta\\right)\\right)}\n"
          ]
        },
        {
          "output_type": "execute_result",
          "data": {
            "text/plain": [
              "(alpha_k**2*mu_m**2 + alpha_k**2*mu_m + beta**2*(-mu + mu_m*(-mu - 1)) + 2*I*beta*mu_m*zeta*(mu_m + 1))/(omega0**2*(beta**4*(-mu + mu_m*(-mu - 1)) + 2*I*beta**3*mu_m*zeta*(mu_m + 1) + beta**2*(alpha_k**2*mu_m**2 + mu + mu_m*(alpha_k**2 + 1)) + mu_m*(-alpha_k**2 - 2*I*beta*zeta)))"
            ],
            "text/latex": "$\\displaystyle \\frac{\\alpha_{k}^{2} \\mu_{m}^{2} + \\alpha_{k}^{2} \\mu_{m} + \\beta^{2} \\left(- \\mu + \\mu_{m} \\left(- \\mu - 1\\right)\\right) + 2 i \\beta \\mu_{m} \\zeta \\left(\\mu_{m} + 1\\right)}{\\omega_{0}^{2} \\left(\\beta^{4} \\left(- \\mu + \\mu_{m} \\left(- \\mu - 1\\right)\\right) + 2 i \\beta^{3} \\mu_{m} \\zeta \\left(\\mu_{m} + 1\\right) + \\beta^{2} \\left(\\alpha_{k}^{2} \\mu_{m}^{2} + \\mu + \\mu_{m} \\left(\\alpha_{k}^{2} + 1\\right)\\right) + \\mu_{m} \\left(- \\alpha_{k}^{2} - 2 i \\beta \\zeta\\right)\\right)}$"
          },
          "metadata": {},
          "execution_count": 17
        }
      ]
    },
    {
      "cell_type": "code",
      "source": [
        "tf_anal_b1c1zero_omega_norm12 = tf_anal_b1c1zero_omega.subs(normalization_dict)\n",
        "tf_anal_b1c1zero_omega_norm12 = sm.factor(tf_anal_b1c1zero_omega_norm12[1], \n",
        "                                          m1, k1)\n",
        "tf_anal_b1c1zero_omega_norm12 = sm.collect(tf_anal_b1c1zero_omega_norm12, beta)\n",
        "tf_anal_b1c1zero_omega_norm12 = sm.collect(tf_anal_b1c1zero_omega_norm12, mu_m)\n",
        "print(sm.latex(tf_anal_b1c1zero_omega_norm12))\n",
        "tf_anal_b1c1zero_omega_norm12"
      ],
      "metadata": {
        "colab": {
          "base_uri": "https://localhost:8080/",
          "height": 90
        },
        "id": "DtYIRsivZNH1",
        "outputId": "9e2005e7-48b1-4d81-adf6-653271fed160"
      },
      "execution_count": 18,
      "outputs": [
        {
          "output_type": "stream",
          "name": "stdout",
          "text": [
            "\\frac{\\mu_{m}}{\\omega_{0}^{2} \\left(\\beta^{4} \\left(- \\mu + \\mu_{m} \\left(- \\mu - 1\\right)\\right) + \\beta^{3} \\left(2 i \\mu_{m}^{2} \\zeta + 2 i \\mu_{m} \\zeta\\right) + \\beta^{2} \\left(\\alpha_{k}^{2} \\mu_{m}^{2} + \\mu + \\mu_{m} \\left(\\alpha_{k}^{2} + 1\\right)\\right) + \\mu_{m} \\left(- \\alpha_{k}^{2} - 2 i \\beta \\zeta\\right)\\right)}\n"
          ]
        },
        {
          "output_type": "execute_result",
          "data": {
            "text/plain": [
              "mu_m/(omega0**2*(beta**4*(-mu + mu_m*(-mu - 1)) + beta**3*(2*I*mu_m**2*zeta + 2*I*mu_m*zeta) + beta**2*(alpha_k**2*mu_m**2 + mu + mu_m*(alpha_k**2 + 1)) + mu_m*(-alpha_k**2 - 2*I*beta*zeta)))"
            ],
            "text/latex": "$\\displaystyle \\frac{\\mu_{m}}{\\omega_{0}^{2} \\left(\\beta^{4} \\left(- \\mu + \\mu_{m} \\left(- \\mu - 1\\right)\\right) + \\beta^{3} \\left(2 i \\mu_{m}^{2} \\zeta + 2 i \\mu_{m} \\zeta\\right) + \\beta^{2} \\left(\\alpha_{k}^{2} \\mu_{m}^{2} + \\mu + \\mu_{m} \\left(\\alpha_{k}^{2} + 1\\right)\\right) + \\mu_{m} \\left(- \\alpha_{k}^{2} - 2 i \\beta \\zeta\\right)\\right)}$"
          },
          "metadata": {},
          "execution_count": 18
        }
      ]
    },
    {
      "cell_type": "markdown",
      "source": [
        "#### Undamped natural frequencies"
      ],
      "metadata": {
        "id": "V3EUcjGTjf6n"
      }
    },
    {
      "cell_type": "code",
      "source": [
        "tf_num, tf_den = sm.fraction(tf_anal_b1c1zero_omega_norm)\n",
        "tf_den"
      ],
      "metadata": {
        "colab": {
          "base_uri": "https://localhost:8080/",
          "height": 39
        },
        "id": "USEytPNowI-z",
        "outputId": "5e63fb87-f974-43ae-db30-8f7abea5e9f2"
      },
      "execution_count": 19,
      "outputs": [
        {
          "output_type": "execute_result",
          "data": {
            "text/plain": [
              "omega0**2*(beta**4*(-mu + mu_m*(-mu - 1)) + 2*I*beta**3*mu_m*zeta*(mu_m + 1) + beta**2*(alpha_k**2*mu_m**2 + mu + mu_m*(alpha_k**2 + 1)) + mu_m*(-alpha_k**2 - 2*I*beta*zeta))"
            ],
            "text/latex": "$\\displaystyle \\omega_{0}^{2} \\left(\\beta^{4} \\left(- \\mu + \\mu_{m} \\left(- \\mu - 1\\right)\\right) + 2 i \\beta^{3} \\mu_{m} \\zeta \\left(\\mu_{m} + 1\\right) + \\beta^{2} \\left(\\alpha_{k}^{2} \\mu_{m}^{2} + \\mu + \\mu_{m} \\left(\\alpha_{k}^{2} + 1\\right)\\right) + \\mu_{m} \\left(- \\alpha_{k}^{2} - 2 i \\beta \\zeta\\right)\\right)$"
          },
          "metadata": {},
          "execution_count": 19
        }
      ]
    },
    {
      "cell_type": "code",
      "source": [
        "tf_den_real = sm.re(tf_den)\n",
        "tf_den_real = tf_den_real\n",
        "tf_den_real"
      ],
      "metadata": {
        "colab": {
          "base_uri": "https://localhost:8080/",
          "height": 39
        },
        "id": "GOgryboIkIQG",
        "outputId": "cfa68dd0-6545-4105-cda2-63ee55583a24"
      },
      "execution_count": 20,
      "outputs": [
        {
          "output_type": "execute_result",
          "data": {
            "text/plain": [
              "omega0**2*(-alpha_k**2*mu_m + beta**4*(-mu + mu_m*(-mu - 1)) + beta**2*(alpha_k**2*mu_m**2 + mu + mu_m*(alpha_k**2 + 1)))"
            ],
            "text/latex": "$\\displaystyle \\omega_{0}^{2} \\left(- \\alpha_{k}^{2} \\mu_{m} + \\beta^{4} \\left(- \\mu + \\mu_{m} \\left(- \\mu - 1\\right)\\right) + \\beta^{2} \\left(\\alpha_{k}^{2} \\mu_{m}^{2} + \\mu + \\mu_{m} \\left(\\alpha_{k}^{2} + 1\\right)\\right)\\right)$"
          },
          "metadata": {},
          "execution_count": 20
        }
      ]
    },
    {
      "cell_type": "code",
      "source": [
        "beta_sol = sm.solve(tf_den_real, beta)\n",
        "(beta_sol[0]/omega0**2)**2"
      ],
      "metadata": {
        "colab": {
          "base_uri": "https://localhost:8080/",
          "height": 61
        },
        "id": "lygPtn0_kTeP",
        "outputId": "9d9caa31-2675-4270-bf48-70f8cc2a2e11"
      },
      "execution_count": 21,
      "outputs": [
        {
          "output_type": "execute_result",
          "data": {
            "text/plain": [
              "(alpha_k**2*mu_m**2 + alpha_k**2*mu_m + mu + mu_m - sqrt(alpha_k**4*mu_m**4 + 2*alpha_k**4*mu_m**3 + alpha_k**4*mu_m**2 - 2*alpha_k**2*mu*mu_m**2 - 2*alpha_k**2*mu*mu_m + 2*alpha_k**2*mu_m**3 - 2*alpha_k**2*mu_m**2 + mu**2 + 2*mu*mu_m + mu_m**2))/(omega0**4*(2*mu*mu_m + 2*mu + 2*mu_m))"
            ],
            "text/latex": "$\\displaystyle \\frac{\\alpha_{k}^{2} \\mu_{m}^{2} + \\alpha_{k}^{2} \\mu_{m} + \\mu + \\mu_{m} - \\sqrt{\\alpha_{k}^{4} \\mu_{m}^{4} + 2 \\alpha_{k}^{4} \\mu_{m}^{3} + \\alpha_{k}^{4} \\mu_{m}^{2} - 2 \\alpha_{k}^{2} \\mu \\mu_{m}^{2} - 2 \\alpha_{k}^{2} \\mu \\mu_{m} + 2 \\alpha_{k}^{2} \\mu_{m}^{3} - 2 \\alpha_{k}^{2} \\mu_{m}^{2} + \\mu^{2} + 2 \\mu \\mu_{m} + \\mu_{m}^{2}}}{\\omega_{0}^{4} \\left(2 \\mu \\mu_{m} + 2 \\mu + 2 \\mu_{m}\\right)}$"
          },
          "metadata": {},
          "execution_count": 21
        }
      ]
    },
    {
      "cell_type": "markdown",
      "source": [
        "##### Minimimum difference between undamped natural frequencies"
      ],
      "metadata": {
        "id": "p1tdHm69373m"
      }
    },
    {
      "cell_type": "code",
      "source": [
        "beta_sol_quotient = beta_sol[1]/beta_sol[0]\n",
        "beta_sol_quotient"
      ],
      "metadata": {
        "colab": {
          "base_uri": "https://localhost:8080/",
          "height": 84
        },
        "id": "S9JxGtjZ-YSJ",
        "outputId": "fda689ea-c203-4925-9ce8-e200f2061e58"
      },
      "execution_count": 22,
      "outputs": [
        {
          "output_type": "execute_result",
          "data": {
            "text/plain": [
              "sqrt(alpha_k**2*mu_m**2 + alpha_k**2*mu_m + mu + mu_m + sqrt(alpha_k**4*mu_m**4 + 2*alpha_k**4*mu_m**3 + alpha_k**4*mu_m**2 - 2*alpha_k**2*mu*mu_m**2 - 2*alpha_k**2*mu*mu_m + 2*alpha_k**2*mu_m**3 - 2*alpha_k**2*mu_m**2 + mu**2 + 2*mu*mu_m + mu_m**2))/sqrt(alpha_k**2*mu_m**2 + alpha_k**2*mu_m + mu + mu_m - sqrt(alpha_k**4*mu_m**4 + 2*alpha_k**4*mu_m**3 + alpha_k**4*mu_m**2 - 2*alpha_k**2*mu*mu_m**2 - 2*alpha_k**2*mu*mu_m + 2*alpha_k**2*mu_m**3 - 2*alpha_k**2*mu_m**2 + mu**2 + 2*mu*mu_m + mu_m**2))"
            ],
            "text/latex": "$\\displaystyle \\frac{\\sqrt{\\alpha_{k}^{2} \\mu_{m}^{2} + \\alpha_{k}^{2} \\mu_{m} + \\mu + \\mu_{m} + \\sqrt{\\alpha_{k}^{4} \\mu_{m}^{4} + 2 \\alpha_{k}^{4} \\mu_{m}^{3} + \\alpha_{k}^{4} \\mu_{m}^{2} - 2 \\alpha_{k}^{2} \\mu \\mu_{m}^{2} - 2 \\alpha_{k}^{2} \\mu \\mu_{m} + 2 \\alpha_{k}^{2} \\mu_{m}^{3} - 2 \\alpha_{k}^{2} \\mu_{m}^{2} + \\mu^{2} + 2 \\mu \\mu_{m} + \\mu_{m}^{2}}}}{\\sqrt{\\alpha_{k}^{2} \\mu_{m}^{2} + \\alpha_{k}^{2} \\mu_{m} + \\mu + \\mu_{m} - \\sqrt{\\alpha_{k}^{4} \\mu_{m}^{4} + 2 \\alpha_{k}^{4} \\mu_{m}^{3} + \\alpha_{k}^{4} \\mu_{m}^{2} - 2 \\alpha_{k}^{2} \\mu \\mu_{m}^{2} - 2 \\alpha_{k}^{2} \\mu \\mu_{m} + 2 \\alpha_{k}^{2} \\mu_{m}^{3} - 2 \\alpha_{k}^{2} \\mu_{m}^{2} + \\mu^{2} + 2 \\mu \\mu_{m} + \\mu_{m}^{2}}}}$"
          },
          "metadata": {},
          "execution_count": 22
        }
      ]
    },
    {
      "cell_type": "code",
      "source": [
        "# Optimizing mu\n",
        "solu_mu = sm.solve(sm.diff(beta_sol_quotient, mu), mu)\n",
        "print(sm.latex(solu_mu[0]))\n",
        "print(\"if mu_m: 1, alpha_k: 1: \", float(solu_mu[0].subs({mu_m: 1, alpha_k: 1})))\n",
        "solu_mu[0]"
      ],
      "metadata": {
        "colab": {
          "base_uri": "https://localhost:8080/",
          "height": 92
        },
        "id": "cTLJZUyq7eUW",
        "outputId": "0e4825ec-926a-4453-b82d-ae899f970a03"
      },
      "execution_count": 23,
      "outputs": [
        {
          "output_type": "stream",
          "name": "stdout",
          "text": [
            "\\frac{\\alpha_{k}^{2} \\mu_{m}^{3} + 2 \\alpha_{k}^{2} \\mu_{m}^{2} + \\alpha_{k}^{2} \\mu_{m} + \\mu_{m}^{2} - \\mu_{m}}{\\mu_{m} + 1}\n",
            "if mu_m: 1, alpha_k: 1:  2.0\n"
          ]
        },
        {
          "output_type": "execute_result",
          "data": {
            "text/plain": [
              "(alpha_k**2*mu_m**3 + 2*alpha_k**2*mu_m**2 + alpha_k**2*mu_m + mu_m**2 - mu_m)/(mu_m + 1)"
            ],
            "text/latex": "$\\displaystyle \\frac{\\alpha_{k}^{2} \\mu_{m}^{3} + 2 \\alpha_{k}^{2} \\mu_{m}^{2} + \\alpha_{k}^{2} \\mu_{m} + \\mu_{m}^{2} - \\mu_{m}}{\\mu_{m} + 1}$"
          },
          "metadata": {},
          "execution_count": 23
        }
      ]
    },
    {
      "cell_type": "code",
      "source": [
        "beta_sol_quotient_muopt = sm.simplify(beta_sol_quotient.subs({mu: solu_mu[0]})).subs({mu_m: 1, alpha_k: 1})\n",
        "print(float(beta_sol_quotient_muopt))\n",
        "sm.simplify(beta_sol_quotient_muopt)"
      ],
      "metadata": {
        "colab": {
          "base_uri": "https://localhost:8080/",
          "height": 83
        },
        "id": "SYXZYDSY-_CM",
        "outputId": "fcfcb74c-f170-4536-a326-3615707a18d9"
      },
      "execution_count": 24,
      "outputs": [
        {
          "output_type": "stream",
          "name": "stdout",
          "text": [
            "1.618033988749895\n"
          ]
        },
        {
          "output_type": "execute_result",
          "data": {
            "text/plain": [
              "sqrt(sqrt(5) + 5)/sqrt(5 - sqrt(5))"
            ],
            "text/latex": "$\\displaystyle \\frac{\\sqrt{\\sqrt{5} + 5}}{\\sqrt{5 - \\sqrt{5}}}$"
          },
          "metadata": {},
          "execution_count": 24
        }
      ]
    },
    {
      "cell_type": "code",
      "source": [
        "# Optimizing alpha_k\n",
        "solu_alpha_k = sm.solve(sm.diff(beta_sol_quotient, alpha_k), alpha_k)\n",
        "print(sm.latex(solu_alpha_k[0]))\n",
        "print(\"if mu_m = 1, mu = 0, alpha_k ** 2 =\", float(solu_alpha_k[0].subs({mu_m: 1, mu: 0})))\n",
        "sm.Eq(solu_alpha_k[0]**2, alpha_k**2)"
      ],
      "metadata": {
        "colab": {
          "base_uri": "https://localhost:8080/",
          "height": 89
        },
        "id": "2TIdLXMdEUSX",
        "outputId": "f780e060-a2c6-41f3-d79a-ad8434fa4f85"
      },
      "execution_count": 25,
      "outputs": [
        {
          "output_type": "stream",
          "name": "stdout",
          "text": [
            "\\frac{\\sqrt{\\mu + \\mu_{m}}}{\\sqrt{\\mu_{m}^{2} + \\mu_{m}}}\n",
            "if mu_m = 1, mu = 0, alpha_k ** 2 = 0.7071067811865476\n"
          ]
        },
        {
          "output_type": "execute_result",
          "data": {
            "text/plain": [
              "Eq((mu + mu_m)/(mu_m**2 + mu_m), alpha_k**2)"
            ],
            "text/latex": "$\\displaystyle \\frac{\\mu + \\mu_{m}}{\\mu_{m}^{2} + \\mu_{m}} = \\alpha_{k}^{2}$"
          },
          "metadata": {},
          "execution_count": 25
        }
      ]
    },
    {
      "cell_type": "code",
      "source": [
        "beta_sol_quotient_alphakopt = sm.simplify(beta_sol_quotient.subs({alpha_k: solu_alpha_k[0]})).subs({mu_m: 1, mu: 0})\n",
        "print(float(beta_sol_quotient_alphakopt))\n",
        "sm.simplify(beta_sol_quotient_alphakopt)"
      ],
      "metadata": {
        "colab": {
          "base_uri": "https://localhost:8080/",
          "height": 83
        },
        "id": "6LzB_tavEicK",
        "outputId": "8ec7dcb0-3937-49d3-adf3-b274fbe00c0e"
      },
      "execution_count": 26,
      "outputs": [
        {
          "output_type": "stream",
          "name": "stdout",
          "text": [
            "2.414213562373095\n"
          ]
        },
        {
          "output_type": "execute_result",
          "data": {
            "text/plain": [
              "sqrt(sqrt(2) + 2)/sqrt(2 - sqrt(2))"
            ],
            "text/latex": "$\\displaystyle \\frac{\\sqrt{\\sqrt{2} + 2}}{\\sqrt{2 - \\sqrt{2}}}$"
          },
          "metadata": {},
          "execution_count": 26
        }
      ]
    },
    {
      "cell_type": "code",
      "source": [
        "# Optimization of mu_m\n",
        "D_beta_sol_quotient_D_mu_m = sm.simplify(sm.diff(\n",
        "    beta_sol_quotient, mu_m)).subs({alpha_k: 1, mu: 0})\n",
        "D_beta_sol_quotient_D_mu_m_num, D_beta_sol_quotient_D_mu_m_den = \\\n",
        "  sm.fraction(D_beta_sol_quotient_D_mu_m)[0], sm.fraction(D_beta_sol_quotient_D_mu_m)[1]\n",
        "print(sm.latex(D_beta_sol_quotient_D_mu_m_num))\n",
        "D_beta_sol_quotient_D_mu_m_num"
      ],
      "metadata": {
        "id": "xewEM7PR97DD"
      },
      "execution_count": null,
      "outputs": []
    },
    {
      "cell_type": "code",
      "source": [
        "sm.solve(D_beta_sol_quotient_D_mu_m_num, mu_m)"
      ],
      "metadata": {
        "id": "177GWYAULLPg"
      },
      "execution_count": null,
      "outputs": []
    },
    {
      "cell_type": "code",
      "source": [
        "print(sm.latex(D_beta_sol_quotient_D_mu_m_den))\n",
        "D_beta_sol_quotient_D_mu_m_den"
      ],
      "metadata": {
        "id": "wfwEaTDJK8lv"
      },
      "execution_count": null,
      "outputs": []
    },
    {
      "cell_type": "code",
      "source": [
        "sm.solve(D_beta_sol_quotient_D_mu_m_den, mu_m)"
      ],
      "metadata": {
        "id": "TQdox6mH-Tr0"
      },
      "execution_count": null,
      "outputs": []
    },
    {
      "cell_type": "markdown",
      "source": [
        "#### Fixed points"
      ],
      "metadata": {
        "id": "U6eTyB053SPf"
      }
    },
    {
      "cell_type": "markdown",
      "source": [
        "##### $||H_1(i \\omega)||^2$"
      ],
      "metadata": {
        "id": "rh7Zs_fDvtxX"
      }
    },
    {
      "cell_type": "code",
      "source": [
        "H_2 = sm.re(tf_anal_b1c1zero_omega_norm)**2 \\\n",
        "      + sm.im(tf_anal_b1c1zero_omega_norm)**2\n",
        "H_2 = sm.factor(H_2, zeta)\n",
        "H_2 = sm.collect(H_2, beta)\n",
        "H_2"
      ],
      "metadata": {
        "id": "j7pSTTEDvno2"
      },
      "execution_count": null,
      "outputs": []
    },
    {
      "cell_type": "code",
      "source": [
        "H_2_num, H_2_den = sm.fraction(H_2)\n",
        "H_2_num = sm.poly(H_2_num, zeta)\n",
        "H_2_den = sm.poly(H_2_den, zeta)\n",
        "H_2_num_coeff = H_2_num.all_coeffs() \n",
        "H_2_den_coeff = H_2_den.all_coeffs() \n",
        "A_fp, B_fp = H_2_num_coeff[0], H_2_num_coeff[2]\n",
        "C_fp, D_fp = H_2_den_coeff[0], H_2_den_coeff[2]\n",
        "print(sm.latex(sm.factor(A_fp)))\n",
        "print(sm.latex(sm.factor(B_fp)))\n",
        "print(sm.latex(sm.factor(C_fp) / omega0**4))\n",
        "print(sm.latex(sm.factor(D_fp, beta) / omega0**4))"
      ],
      "metadata": {
        "id": "Ljoke3yqjia8"
      },
      "execution_count": null,
      "outputs": []
    },
    {
      "cell_type": "code",
      "source": [
        "sm.factor(A_fp)"
      ],
      "metadata": {
        "id": "MaNLI3Q1aDbu"
      },
      "execution_count": null,
      "outputs": []
    },
    {
      "cell_type": "code",
      "source": [
        "sm.factor(B_fp)"
      ],
      "metadata": {
        "id": "YYeMU5craE2j"
      },
      "execution_count": null,
      "outputs": []
    },
    {
      "cell_type": "code",
      "source": [
        "sm.factor(C_fp) / omega0**4"
      ],
      "metadata": {
        "id": "eidLSFhbaGJz"
      },
      "execution_count": null,
      "outputs": []
    },
    {
      "cell_type": "code",
      "source": [
        "sm.factor(D_fp, beta) / omega0**4"
      ],
      "metadata": {
        "id": "MUdwzYTaaH4p"
      },
      "execution_count": null,
      "outputs": []
    },
    {
      "cell_type": "code",
      "source": [
        "H_2_check = sm.factor(\n",
        "    ((zeta**2) * A_fp + B_fp) / ((zeta**2) * C_fp + D_fp), omega0, zeta)\n",
        "print('H_2_check - H_2 = ', sm.simplify(H_2_check - H_2))\n"
      ],
      "metadata": {
        "id": "g9GhCj0HktGN"
      },
      "execution_count": null,
      "outputs": []
    },
    {
      "cell_type": "code",
      "source": [
        "eq_FP = sm.factor((omega0**4) * ((A_fp / C_fp) - (B_fp / D_fp)), beta)\n",
        "eq_FP"
      ],
      "metadata": {
        "id": "AnSJCy_GrmTV"
      },
      "execution_count": null,
      "outputs": []
    },
    {
      "cell_type": "code",
      "source": [
        "# if A_fp / C_fp = B_fp / D_fp, H is independent of damping zeta\n",
        "eq_FP_num = sm.Eq(sm.fraction(eq_FP, 0)[0]/(-beta**2 * mu_m**2), 0)\n",
        "print(sm.latex(eq_FP_num), '\\n')\n",
        "eq_FP_num"
      ],
      "metadata": {
        "id": "ixWNMhOITAZH"
      },
      "execution_count": null,
      "outputs": []
    },
    {
      "cell_type": "code",
      "source": [
        "beta_fixed_points_num = sm.solve(eq_FP_num, beta)\n",
        "beta_fixed_points_num = [sm.collect(beta_fixed_point_num, [alpha_k, mu_m, mu]) for beta_fixed_point_num in beta_fixed_points_num]\n",
        "print(sm.latex(beta_fixed_points_num[0]**2))\n",
        "beta_fixed_points_num[0]**2"
      ],
      "metadata": {
        "id": "l9HozKmoGGH6"
      },
      "execution_count": null,
      "outputs": []
    },
    {
      "cell_type": "code",
      "source": [
        "# if A_fp / C_fp = B_fp / D_fp, H is independent of damping zeta\n",
        "beta_fixed_points = sm.solve(eq_FP, beta)\n",
        "beta_fixed_points = [sm.collect(beta_fixed_point, [alpha_k, mu_m, mu]) for beta_fixed_point in beta_fixed_points]\n",
        "beta_fixed_points"
      ],
      "metadata": {
        "id": "fGwnb4I0mDo_"
      },
      "execution_count": null,
      "outputs": []
    },
    {
      "cell_type": "code",
      "source": [
        "beta_fixed_points = [sm.collect(beta_fixed_point, [alpha_k, mu_m, mu]) for beta_fixed_point in beta_fixed_points]\n",
        "beta_fixed_points[0]"
      ],
      "metadata": {
        "id": "8qzBU5PKSbpm"
      },
      "execution_count": null,
      "outputs": []
    },
    {
      "cell_type": "code",
      "source": [
        "beta_fixed_points[1]"
      ],
      "metadata": {
        "id": "C0qzBYCPrkhg"
      },
      "execution_count": null,
      "outputs": []
    },
    {
      "cell_type": "code",
      "source": [
        "solution_2 = sm.Eq(beta**2, sm.collect(sm.expand(beta_fixed_points[0]**2, modulus=2), mu_m))\n",
        "print(sm.latex(solution_2))\n",
        "solution_2"
      ],
      "metadata": {
        "id": "rKEvO9zuUfGL"
      },
      "execution_count": null,
      "outputs": []
    },
    {
      "cell_type": "code",
      "source": [
        "from sympy.plotting import plot, plot_parametric\n",
        "from matplotlib import style\n",
        "print(plt.style.available)\n",
        "\n",
        "par_dict_list = [\n",
        "                 {\n",
        "                  # mu_m: 1, \n",
        "                  alpha_k: 1,\n",
        "                  mu: 0\n",
        "                  },\n",
        "                 {\n",
        "                  mu_m: 1, \n",
        "                  # alpha_k: alpha_k_par,\n",
        "                  mu: 0\n",
        "                  },\n",
        "                 {\n",
        "                  mu_m: 1, \n",
        "                  alpha_k: 1,\n",
        "                  # mu: 0\n",
        "                  }\n",
        "                 ]\n",
        "title_list = [r\"Undamped natural frequencies and fixed points: $\\mu$={}, $\\alpha_k$={}\"\\\n",
        "              .format(par_dict_list[0][mu], par_dict_list[0][alpha_k]),\n",
        "              r\"Undamped natural frequencies and fixed points: $\\mu$={}, $\\mu_m$={}\"\\\n",
        "              .format(par_dict_list[1][mu], par_dict_list[1][mu_m]),\n",
        "              r\"Undamped natural frequencies and fixed points: $\\alpha_k$={}, $\\mu_m$={}\"\\\n",
        "              .format(par_dict_list[2][alpha_k], par_dict_list[2][mu_m])]\n",
        "\n",
        "for par_dict, title in zip(par_dict_list, title_list):\n",
        "  style.use('default')\n",
        "\n",
        "  p1 = plot(beta_sol[0].subs(par_dict), show=False, label=r'$\\beta_0$', line_color='blue')\n",
        "  p2 = plot(beta_sol[1].subs(par_dict), show=False, label=r'$\\beta_1$', line_color='red')\n",
        "  p3 = plot(((beta_sol[1]-beta_sol[0])/beta_sol[0]).subs(par_dict), \n",
        "            show=False, label=r'$(\\beta_1$ - $\\beta_0)/\\beta_0$', \n",
        "            line_color='green')\n",
        "  p4 = plot(beta_fixed_points[0].subs(par_dict), show=False, label=r'$\\beta_{FP0}$', line_color='cyan')\n",
        "  p5 = plot(beta_fixed_points[1].subs(par_dict), show=False, label=r'$\\beta_{FP1}$', line_color='pink')\n",
        "  p6 = plot(((beta_fixed_points[1].subs(par_dict) - beta_fixed_points[0]) / beta_fixed_points[0]).subs(par_dict), \n",
        "            show=False, \n",
        "            label=r'$(\\beta_{FP1} - \\beta_{FP0})/\\beta_{FP0}$', \n",
        "            line_color='olive')\n",
        "\n",
        "  p1.append(p2[0])\n",
        "  p1.append(p3[0])\n",
        "  p1.append(p4[0])\n",
        "  p1.append(p5[0])\n",
        "  p1.append(p6[0])\n",
        "  # p1.append(p7[0])\n",
        "  # p1.append(p8[0])\n",
        "  p1.title = title\n",
        "  p1.xlabel = r\"$\\{}$\".format(p1.xlabel)\n",
        "  p1.ylabel = r'$\\beta$'\n",
        "  p1.xlim = (0, 3)\n",
        "  p1.ylim = (0, 2)\n",
        "  p1.legend = 'show'\n",
        "\n",
        "  p1.save(os.path.join(path, f'beta_and_betaFPs_{par_dict}.pdf'))\n",
        "  plt.gca().grid(visible=True)\n",
        "  plt.gca().minorticks_on()\n",
        "  plt.savefig(os.path.join(path, f'beta_and_betaFPs_{par_dict}.pdf'))\n",
        "\n",
        "\n"
      ],
      "metadata": {
        "id": "0ZSV34IVoKpg"
      },
      "execution_count": null,
      "outputs": []
    },
    {
      "cell_type": "code",
      "source": [
        "p1."
      ],
      "metadata": {
        "id": "ERlwPhyQExiB"
      },
      "execution_count": null,
      "outputs": []
    },
    {
      "cell_type": "code",
      "source": [
        "H_2_FP0 = H_2.subs({beta: beta_fixed_points[0]})\n",
        "H_2_FP1 = H_2.subs({beta: beta_fixed_points[1]})\n",
        "H_2_FPs_diff = sm.collect(H_2_FP1 - H_2_FP0, [alpha_k, mu_m, mu])\n",
        "H_2_FPs_diff"
      ],
      "metadata": {
        "id": "E-bInp1TvNva"
      },
      "execution_count": null,
      "outputs": []
    },
    {
      "cell_type": "markdown",
      "source": [
        "##### Optimization of $\\mu$: $\\mu$ such that $||H(\\beta_{FP1})|| = ||H(\\beta_{FP0})||$\n"
      ],
      "metadata": {
        "id": "Gw9xVj3K2p_J"
      }
    },
    {
      "cell_type": "code",
      "source": [
        "optimize_anal = False\n",
        "\n",
        "if optimize_anal:\n",
        "  mu_m_alpha_k_cases = [\n",
        "      {\n",
        "          mu_m: 1,\n",
        "          alpha_k: 1\n",
        "      },\n",
        "      {\n",
        "          mu_m: sm.Rational(1, 2),\n",
        "          alpha_k: 1\n",
        "      },\n",
        "      {\n",
        "          mu_m: 1,\n",
        "          alpha_k: sm.Rational(1, 2)\n",
        "      },\n",
        "      {\n",
        "          mu_m: 2,\n",
        "          alpha_k: 1        \n",
        "      },\n",
        "      {\n",
        "          mu_m: 1,\n",
        "          alpha_k: 2\n",
        "      },\n",
        "      {\n",
        "          mu_m: 2,\n",
        "          alpha_k: 2\n",
        "      },\n",
        "      {\n",
        "          mu_m: sm.Rational(3, 4),\n",
        "          alpha_k: sm.Rational(3, 4)\n",
        "      }\n",
        "  ]\n",
        "\n",
        "  for mu_m_alpha_k in mu_m_alpha_k_cases: \n",
        "    H_2_FPs_diff_ = sm.simplify(H_2_FPs_diff.subs(mu_m_alpha_k))\n",
        "    mu_opt_FP_ = sm.solve(H_2_FPs_diff_, mu)[0]\n",
        "    mu_m_alpha_k['H_2_FPs_diff_'] = H_2_FPs_diff_\n",
        "    mu_m_alpha_k['mu_opt_FP_'] = mu_opt_FP_\n",
        "    mu_m_alpha_k['mu_opt_FP_float_'] = float(mu_opt_FP_)\n",
        "\n"
      ],
      "metadata": {
        "id": "_SdDX-07PTCx"
      },
      "execution_count": null,
      "outputs": []
    },
    {
      "cell_type": "markdown",
      "source": [
        "##### Optimization of $\\zeta$: turn a fixed point into a frequency response peak"
      ],
      "metadata": {
        "id": "yGLxLYgt3QTz"
      }
    },
    {
      "cell_type": "code",
      "source": [
        "if optimize_anal:\n",
        "  for mu_m_alpha_k in mu_m_alpha_k_cases: \n",
        "    D_H_2_beta_ = sm.simplify(sm.diff(H_2.subs(mu_m_alpha_k), beta))\n",
        "    mu_m_alpha_k['D_H_2_beta_'] = D_H_2_beta_\n",
        "    # at FP0\n",
        "    D_H_2_beta_at_FP0_ = sm.simplify(\n",
        "        D_H_2_beta_.subs({beta: beta_fixed_points[0].subs(mu_m_alpha_k)}))\n",
        "    D_H_2_beta_at_FP0_muopt_ = sm.simplify(D_H_2_beta_at_FP0_.subs({\n",
        "        mu: mu_m_alpha_k['mu_opt_FP_']}))\n",
        "    mu_m_alpha_k['D_H_2_beta_at_FP0_muopt_'] = D_H_2_beta_at_FP0_muopt_\n",
        "    zeta_opt_FP0_ = sm.solve(D_H_2_beta_at_FP0_muopt_, zeta)[0]\n",
        "    mu_m_alpha_k['zeta_opt_FP0_'] = zeta_opt_FP0_\n",
        "    # at FP1\n",
        "    D_H_2_beta_at_FP1_ = sm.simplify(\n",
        "        D_H_2_beta_.subs({beta: beta_fixed_points[1].subs(mu_m_alpha_k)}))\n",
        "    D_H_2_beta_at_FP1_muopt_ = sm.simplify(D_H_2_beta_at_FP1_.subs({\n",
        "        mu: mu_m_alpha_k['mu_opt_FP_']}))\n",
        "    mu_m_alpha_k['D_H_2_beta_at_FP1_muopt_'] = D_H_2_beta_at_FP1_muopt_\n",
        "    zeta_opt_FP1_ = sm.solve(D_H_2_beta_at_FP1_muopt_, zeta)[0]\n",
        "    mu_m_alpha_k['zeta_opt_FP1_'] = zeta_opt_FP1_\n",
        "    # average\n",
        "    zeta_opt_FP_ = (zeta_opt_FP0_ + zeta_opt_FP1_)/2\n",
        "    mu_m_alpha_k['zeta_opt_FP_'] = zeta_opt_FP_\n",
        "    mu_m_alpha_k['zeta_opt_FP_float_'] = float(zeta_opt_FP_)"
      ],
      "metadata": {
        "id": "SOtG6zSfAwDT"
      },
      "execution_count": null,
      "outputs": []
    },
    {
      "cell_type": "markdown",
      "source": [
        "##### Optimal response"
      ],
      "metadata": {
        "id": "60yRa9qr33R5"
      }
    },
    {
      "cell_type": "code",
      "source": [
        "tf12_anal_b1c1zero_omega_norm = tf_anal_b1c1zero_omega.subs(normalization_dict)\n",
        "tf12_anal_b1c1zero_omega_norm = sm.factor(tf12_anal_b1c1zero_omega_norm[1], \n",
        "                                          m1, k1)\n",
        "tf12_anal_b1c1zero_omega_norm = sm.collect(tf12_anal_b1c1zero_omega_norm, beta)\n",
        "tf12_anal_b1c1zero_omega_norm = sm.collect(tf12_anal_b1c1zero_omega_norm, mu_m)\n",
        "tf12_anal_b1c1zero_omega_norm"
      ],
      "metadata": {
        "id": "ahd4rqvcgdgN"
      },
      "execution_count": null,
      "outputs": []
    },
    {
      "cell_type": "code",
      "source": [
        "if optimize_anal:\n",
        "  H12_2 = sm.re(tf12_anal_b1c1zero_omega_norm)**2 \\\n",
        "      + sm.im(tf12_anal_b1c1zero_omega_norm)**2\n",
        "  H12_2 = sm.factor(H12_2, zeta)\n",
        "  H12_2 = sm.collect(H12_2, beta)\n",
        "  H12_2\n",
        "\n",
        "\n",
        "  for mu_m_alpha_k in mu_m_alpha_k_cases: \n",
        "    optimization_dict = {mu: mu_m_alpha_k['mu_opt_FP_'], \n",
        "                         zeta: mu_m_alpha_k['zeta_opt_FP_']}\n",
        "\n",
        "    H_2_opt_ = (H_2.subs(mu_m_alpha_k)).subs(optimization_dict)\n",
        "    mu_m_alpha_k['H_2_opt_'] = H_2_opt_\n",
        "\n",
        "    H12_2_opt_ = (H12_2.subs(mu_m_alpha_k)).subs(optimization_dict)\n",
        "    mu_m_alpha_k['H12_2_opt_'] = H12_2_opt_\n",
        "\n",
        "    pseudo_resonances = [beta_fixed_points[0].subs(optimization_dict).subs(mu_m_alpha_k), \n",
        "                        beta_fixed_points[1].subs(optimization_dict).subs(mu_m_alpha_k)]\n",
        "\n",
        "    H_opt_pseudo_peaks = \\\n",
        "        [float(sm.simplify(sm.sqrt(H_2_opt_.subs({beta: pseudo_resonance}))*(omega0**2)))/(omega0**2) \\\n",
        "        for pseudo_resonance in pseudo_resonances]\n",
        "    mu_m_alpha_k['H_opt_inf_'] = max(\n",
        "        [float(_*(omega0**2)) for _ in H_opt_pseudo_peaks])/(omega0**2)\n",
        "\n",
        "    H12_opt_pseudo_peaks = \\\n",
        "        [float(sm.simplify(sm.sqrt(H12_2_opt_.subs({beta: pseudo_resonance}))*(omega0**2)))/(omega0**2) \\\n",
        "        for pseudo_resonance in pseudo_resonances]\n",
        "    mu_m_alpha_k['H12_opt_inf_'] = max(\n",
        "        [float(_*(omega0**2)) for _ in H12_opt_pseudo_peaks])/(omega0**2)"
      ],
      "metadata": {
        "id": "BDlCduWNQE7l"
      },
      "execution_count": null,
      "outputs": []
    },
    {
      "cell_type": "code",
      "source": [
        "# dump and load in a pickle file\n",
        "filename = os.path.join(path, 'optimization_anal_v5.pickle')\n",
        "if optimize_anal:\n",
        "  print('File', filename, f' is being created because optimize_anal = {optimize_anal}')\n",
        "  with open(filename, \"wb\") as file:\n",
        "    pickle.dump(mu_m_alpha_k_cases, file)\n",
        "if os.path.isfile(filename):\n",
        "  print('File', filename, 'exists, so it is being loaded...')\n",
        "  with open(filename, \"rb\") as file:\n",
        "    mu_m_alpha_k_cases = pickle.load(file)\n"
      ],
      "metadata": {
        "id": "o7uuY-ZLyQ7H"
      },
      "execution_count": null,
      "outputs": []
    },
    {
      "cell_type": "code",
      "source": [
        "string = (\" \\\\\\\\ \\\\\\\\ \\n\").join([\n",
        "    ' & '.join(['$'+sm.latex(_[mu_m])+'$', '$'+sm.latex(_[alpha_k])+'$', \n",
        "                # '$'+sm.latex(_['H_2_FPs_diff_'])+'$', \n",
        "                '$'+sm.latex(_['mu_opt_FP_'])+'$', \n",
        "                str(np.round(float(_['zeta_opt_FP_float_']), 3)), \n",
        "                '$'+sm.latex(np.round(float(_['H_opt_inf_']*omega0**2), 3))+'$', \n",
        "                '$'+sm.latex(np.round(float(_['H12_opt_inf_']*omega0**2), 3))+'$'])\n",
        "      for _ in mu_m_alpha_k_cases])\n",
        "print(string)\n",
        "with open(os.path.join(path, 'optimization_anal_table.txt'), 'w') as f:\n",
        "  print(string, file=f)\n"
      ],
      "metadata": {
        "id": "z-YKgOQJQHja"
      },
      "execution_count": null,
      "outputs": []
    },
    {
      "cell_type": "markdown",
      "source": [
        "##### Polynomial fit"
      ],
      "metadata": {
        "id": "V3zARoW2E0Hy"
      }
    },
    {
      "cell_type": "code",
      "source": [
        "mu_m_reg = np.array([float(_[mu_m]) for _ in mu_m_alpha_k_cases]).reshape((-1, 1))\n",
        "alpha_k_reg = np.array([float(_[alpha_k]) for _ in mu_m_alpha_k_cases]).reshape((-1, 1))\n",
        "\n",
        "A_reg = np.hstack([mu_m_reg**2, alpha_k_reg**2, mu_m_reg, alpha_k_reg, mu_m_reg*alpha_k_reg, np.ones((mu_m_reg.shape[0],1))])\n",
        "b_reg_mu_opt = np.array([_['mu_opt_FP_float_'] for _ in mu_m_alpha_k_cases]).reshape((-1, 1))\n",
        "b_reg_zeta_opt = np.array([_['zeta_opt_FP_float_'] for _ in mu_m_alpha_k_cases]).reshape((-1, 1))\n",
        "b_reg_H_inf_times_omega0_2_opt = np.array([float(_['H_opt_inf_']*omega0**2) for _ in mu_m_alpha_k_cases]).reshape((-1, 1))\n",
        "b_reg_H12_inf_times_omega0_2_opt = np.array([float(_['H12_opt_inf_']*omega0**2) for _ in mu_m_alpha_k_cases]).reshape((-1, 1))\n",
        "\n",
        "\n",
        "coeff_reg_mu_opt = np.linalg.lstsq(A_reg, b_reg_mu_opt, rcond=None)[0]\n",
        "mu_opt_approx = (mu_m**2) * coeff_reg_mu_opt[0, 0] + \\\n",
        "                (alpha_k**2) * coeff_reg_mu_opt[1, 0] + \\\n",
        "                (mu_m) * coeff_reg_mu_opt[2, 0] + \\\n",
        "                (alpha_k) * coeff_reg_mu_opt[3, 0] + \\\n",
        "                (mu_m*alpha_k) * coeff_reg_mu_opt[4, 0] + \\\n",
        "                coeff_reg_mu_opt[5, 0]\n",
        "\n",
        "coeff_reg_zeta_opt = np.linalg.lstsq(A_reg, b_reg_zeta_opt, rcond=None)[0]\n",
        "zeta_opt_approx = (mu_m**2) * coeff_reg_zeta_opt[0, 0] + \\\n",
        "                  (alpha_k**2) * coeff_reg_zeta_opt[1, 0] + \\\n",
        "                  (mu_m) * coeff_reg_zeta_opt[2, 0] + \\\n",
        "                  (alpha_k) * coeff_reg_zeta_opt[3, 0] + \\\n",
        "                  (mu_m*alpha_k) * coeff_reg_zeta_opt[4, 0] + \\\n",
        "                  coeff_reg_zeta_opt[5, 0]\n",
        "\n",
        "coeff_reg_H_inf_times_omega0_2_opt = np.linalg.lstsq(A_reg, b_reg_H_inf_times_omega0_2_opt, rcond=None)[0]\n",
        "H_inf_times_omega0_2_opt_approx = \\\n",
        "                  (mu_m**2) * coeff_reg_H_inf_times_omega0_2_opt[0, 0] + \\\n",
        "                  (alpha_k**2) * coeff_reg_H_inf_times_omega0_2_opt[1, 0] + \\\n",
        "                  (mu_m) * coeff_reg_H_inf_times_omega0_2_opt[2, 0] + \\\n",
        "                  (alpha_k) * coeff_reg_H_inf_times_omega0_2_opt[3, 0] + \\\n",
        "                  (mu_m*alpha_k) * coeff_reg_H_inf_times_omega0_2_opt[4, 0] + \\\n",
        "                  coeff_reg_H_inf_times_omega0_2_opt[5, 0]\n",
        "\n",
        "coeff_reg_H12_inf_times_omega0_2_opt = np.linalg.lstsq(A_reg, b_reg_H12_inf_times_omega0_2_opt, rcond=None)[0]\n",
        "H12_inf_times_omega0_2_opt_approx = \\\n",
        "                  (mu_m**2) * coeff_reg_H12_inf_times_omega0_2_opt[0, 0] + \\\n",
        "                  (alpha_k**2) * coeff_reg_H12_inf_times_omega0_2_opt[1, 0] + \\\n",
        "                  (mu_m) * coeff_reg_H12_inf_times_omega0_2_opt[2, 0] + \\\n",
        "                  (alpha_k) * coeff_reg_H12_inf_times_omega0_2_opt[3, 0] + \\\n",
        "                  (mu_m*alpha_k) * coeff_reg_H12_inf_times_omega0_2_opt[4, 0] + \\\n",
        "                  coeff_reg_H12_inf_times_omega0_2_opt[5, 0]"
      ],
      "metadata": {
        "id": "8uv9N1kd8LoS"
      },
      "execution_count": null,
      "outputs": []
    },
    {
      "cell_type": "code",
      "source": [
        "mu_opt_approx"
      ],
      "metadata": {
        "id": "Roy8boiiSKA0"
      },
      "execution_count": null,
      "outputs": []
    },
    {
      "cell_type": "code",
      "source": [
        "zeta_opt_approx"
      ],
      "metadata": {
        "id": "WZPx_LSHSLuQ"
      },
      "execution_count": null,
      "outputs": []
    },
    {
      "cell_type": "code",
      "source": [
        "H_inf_times_omega0_2_opt_approx"
      ],
      "metadata": {
        "id": "GZXY3_3lSpTD"
      },
      "execution_count": null,
      "outputs": []
    },
    {
      "cell_type": "code",
      "source": [
        "H12_inf_times_omega0_2_opt_approx"
      ],
      "metadata": {
        "id": "-sgY-wJgjbDV"
      },
      "execution_count": null,
      "outputs": []
    },
    {
      "cell_type": "code",
      "source": [
        "# Test\n",
        "m1_exp = 32.37\n",
        "m2_exp = 26.007\n",
        "k1_exp = 14188\n",
        "k12_exp = 19904\n",
        "\n",
        "mu_m_exp = m2_exp/m1_exp\n",
        "omega0_exp = np.sqrt(k1_exp/m1_exp)\n",
        "alpha_k_exp = np.sqrt(k12_exp/m2_exp) / omega0_exp\n",
        "\n",
        "b12_opt_approx = m1_exp * mu_opt_approx.subs({mu_m: mu_m_exp, alpha_k: alpha_k_exp})\n",
        "c12_opt_approx = 2*m1_exp*omega0_exp * zeta_opt_approx.subs({mu_m: mu_m_exp, alpha_k: alpha_k_exp})\n",
        "H_inf_opt_approx = H_inf_times_omega0_2_opt_approx.subs({mu_m: mu_m_exp, alpha_k: alpha_k_exp}) / omega0_exp**2\n",
        "H12_inf_opt_approx = H12_inf_times_omega0_2_opt_approx.subs({mu_m: mu_m_exp, alpha_k: alpha_k_exp}) / omega0_exp**2\n",
        "\n",
        "print('optimal inertance: ', b12_opt_approx, ' kg')\n",
        "print('optimal damping coefficient: ', c12_opt_approx, ' Ns/m')\n",
        "print('optimal H_inf: ', H_inf_opt_approx, ' m / (m/s2)')\n",
        "print('optimal H12_inf: ', H12_inf_opt_approx, ' m / (m/s2)')"
      ],
      "metadata": {
        "id": "7vzWdNI8J2uT"
      },
      "execution_count": null,
      "outputs": []
    },
    {
      "cell_type": "markdown",
      "source": [
        "## Base parameters"
      ],
      "metadata": {
        "id": "RkvaZAz6kowH"
      }
    },
    {
      "cell_type": "markdown",
      "source": [
        "### Classes"
      ],
      "metadata": {
        "id": "UFcPOElV7lAL"
      }
    },
    {
      "cell_type": "code",
      "source": [
        "class Parameters:\n",
        "  def __init__(self, base_parameters):\n",
        "    self.base_parameters = base_parameters\n",
        "  \n",
        "  def get_parameters(self, alpha=None, b12_add=0, c12_add=0, k12_add=0):\n",
        "    parameters = self.base_parameters.copy()\n",
        "    if alpha is not None:\n",
        "      parameters['c1'] = alpha*parameters['k1']\n",
        "      parameters['c12'] = alpha*parameters['k12']\n",
        "    parameters['b12'] += b12_add\n",
        "    parameters['c12'] += c12_add\n",
        "    parameters['k12'] += k12_add\n",
        "    return parameters"
      ],
      "metadata": {
        "id": "NIBhP0br7nOv"
      },
      "execution_count": null,
      "outputs": []
    },
    {
      "cell_type": "markdown",
      "source": [
        "### Values"
      ],
      "metadata": {
        "id": "8zukTT-waph7"
      }
    },
    {
      "cell_type": "code",
      "source": [
        "## constans\n",
        "# stiffness-proportional damping coefficient\n",
        "alpha = 0.02\n",
        "\n",
        "k1_c = 1\n",
        "c1_c = alpha*k1_c\n",
        "m1_c = 1\n",
        "k12_c = 1\n",
        "c12_c = alpha*k12_c\n",
        "m2_c = 1\n",
        "b1_c = 0\n",
        "b12_c = 0\n",
        "\n",
        "base_parameters = {'k1':  k1_c,\n",
        "                   'c1':  c1_c,\n",
        "                   'm1':  m1_c,\n",
        "                   'k12': k12_c,\n",
        "                   'c12': c12_c,\n",
        "                   'm2':  m2_c,\n",
        "                   'b1':  b1_c,\n",
        "                   'b12': b12_c}\n",
        "\n",
        "par = Parameters(base_parameters)\n",
        "\n",
        "i_output = 0\n",
        "tf = TF(A, B, C, D).subs(i_output, par.get_parameters(alpha,0,0))\n",
        "print(tf._tf)"
      ],
      "metadata": {
        "id": "XSyOBaSsQ1Ul"
      },
      "execution_count": null,
      "outputs": []
    },
    {
      "cell_type": "code",
      "source": [
        "par.base_parameters"
      ],
      "metadata": {
        "id": "XWNd6-Nk3vxV"
      },
      "execution_count": null,
      "outputs": []
    },
    {
      "cell_type": "markdown",
      "source": [
        "# Parametric analysis"
      ],
      "metadata": {
        "id": "-zUeJQq87LVK"
      }
    },
    {
      "cell_type": "markdown",
      "source": [
        "## Functions"
      ],
      "metadata": {
        "id": "siv55jGafFnS"
      }
    },
    {
      "cell_type": "code",
      "source": [
        "steps = 50\n",
        "c12_add = np.linspace(0, 250*c1_c, steps)\n",
        "b12_add = np.linspace(0, 5, steps)\n",
        "\n",
        "tf = TF(A, B, C, D)\n",
        "H_1inf_b12_add = lambda x : tf.H_inf(0, \n",
        "                                     par.get_parameters(alpha=alpha, b12_add=x, c12_add=0))\n",
        "H_1inf_c12_add = lambda x : tf.H_inf(0, \n",
        "                                     par.get_parameters(alpha=alpha, b12_add=0, c12_add=x))\n",
        "H_12inf_b12_add = lambda x : tf.H_inf(1,\n",
        "                                      par.get_parameters(alpha=alpha, b12_add=x, c12_add=0))\n",
        "H_12inf_c12_add = lambda x : tf.H_inf(1, \n",
        "                                      par.get_parameters(alpha=alpha, b12_add=0, c12_add=x))\n",
        "\n",
        "def damping_ratio(alpha, w):\n",
        "  return alpha*w/2\n",
        "\n",
        "natural_freqs = tf.natural_w(par.get_parameters(alpha=alpha, b12_add=0, c12_add=0))\n",
        "print(f'natural frequencies = {natural_freqs} rad/s')\n",
        "print(f'damping ratios = {[damping_ratio(alpha,w) for w in natural_freqs]}')"
      ],
      "metadata": {
        "id": "tit8qtpVfHUn"
      },
      "execution_count": null,
      "outputs": []
    },
    {
      "cell_type": "markdown",
      "source": [
        "## Plots"
      ],
      "metadata": {
        "id": "BzwXtiYOfIFk"
      }
    },
    {
      "cell_type": "code",
      "source": [
        "fig, ax = plt.subplots(2, 2, figsize=[10, 5], sharex=True, sharey=True)\n",
        "\n",
        "[[elem.grid(which='both', axis='both') for elem in row] for row in ax]\n",
        "\n",
        "ax[0,0].plot(c12_add, np.vectorize(H_1inf_c12_add)(c12_add))\n",
        "ax[0,0].set_xlabel('$c_{12add}$')\n",
        "ax[0,0].set_ylabel('$H_{1\\infty}$')\n",
        "ax[0,1].plot(b12_add, np.vectorize(H_1inf_b12_add)(b12_add))\n",
        "ax[0,1].set_xlabel('$b_{12add}$')\n",
        "\n",
        "ax[1,0].plot(c12_add, np.vectorize(H_12inf_c12_add)(c12_add))\n",
        "ax[1,0].set_xlabel('$c_{12add}$')\n",
        "ax[1,0].set_ylabel('$H_{12\\infty}$')\n",
        "ax[1,1].plot(b12_add, np.vectorize(H_12inf_b12_add)(b12_add))\n",
        "ax[1,1].set_xlabel('$b_{12add}$')\n"
      ],
      "metadata": {
        "id": "OWE_p0A47PBc"
      },
      "execution_count": null,
      "outputs": []
    },
    {
      "cell_type": "markdown",
      "source": [
        "# Multi objective optimization"
      ],
      "metadata": {
        "id": "I8snevD7QPgz"
      }
    },
    {
      "cell_type": "markdown",
      "source": [
        "## Functions"
      ],
      "metadata": {
        "id": "YGZ33XyuQPhB"
      }
    },
    {
      "cell_type": "code",
      "source": [
        "def optim_H_1_H_12_inf(tf, alpha, lambda_opt=1, n_iter_over2=3):\n",
        "  assert 0 <= lambda_opt <= 1\n",
        "  H_1_H_12_inf_c12_add = lambda x : lambda_opt * tf.H_inf(0, par.get_parameters(alpha=alpha, b12_add=0, c12_add=x)) + (1-lambda_opt) * tf.H_inf(1, par.get_parameters(alpha=alpha, b12_add=0, c12_add=x))\n",
        "  H_1_H_12_inf_b12_add = lambda x : lambda_opt * tf.H_inf(0, par.get_parameters(alpha=alpha, b12_add=x, c12_add=0)) + (1-lambda_opt) * tf.H_inf(1, par.get_parameters(alpha=alpha, b12_add=x, c12_add=0))\n",
        "  tfs = [copy.deepcopy(tf)]\n",
        "  for i_iter in range(n_iter_over2):\n",
        "    b12 = sp.optimize.minimize_scalar(H_1_H_12_inf_b12_add).x\n",
        "    H_1_H_12_inf_c12_add = lambda x : lambda_opt * tf.H_inf(0, par.get_parameters(alpha=alpha, b12_add=b12, c12_add=x)) + (1-lambda_opt) * tf.H_inf(1, par.get_parameters(alpha=alpha, b12_add=b12, c12_add=x))\n",
        "    tfs.append(copy.deepcopy(tf))\n",
        "    c12 = sp.optimize.minimize_scalar(H_1_H_12_inf_c12_add).x\n",
        "    H_1_H_12_inf_b12_add = lambda x : lambda_opt * tf.H_inf(0, par.get_parameters(alpha=alpha, b12_add=x, c12_add=c12)) + (1-lambda_opt) * tf.H_inf(1, par.get_parameters(alpha=alpha, b12_add=x, c12_add=c12))\n",
        "    tfs.append(copy.deepcopy(tf))\n",
        "  return tfs"
      ],
      "metadata": {
        "id": "O6A820apQPhB"
      },
      "execution_count": null,
      "outputs": []
    },
    {
      "cell_type": "markdown",
      "source": [
        "## Single objective"
      ],
      "metadata": {
        "id": "vi0LMyCwQPhC"
      }
    },
    {
      "cell_type": "code",
      "source": [
        "tf = TF(A, B, C, D).subs(i_output, par.get_parameters(alpha, 0, 0))\n",
        "tfs = optim_H_1_H_12_inf(tf, alpha, lambda_opt=1)"
      ],
      "metadata": {
        "id": "AYE8MJXHQPhC"
      },
      "execution_count": null,
      "outputs": []
    },
    {
      "cell_type": "markdown",
      "source": [
        "### Plots"
      ],
      "metadata": {
        "id": "JPumlb10QPhD"
      }
    },
    {
      "cell_type": "code",
      "source": [
        "plot_zp = False\n",
        "H_lims = (.8, 200)\n",
        "\n",
        "if plot_zp:\n",
        "  fig, ax = plt.subplots(2, 3, figsize=[15, 10], sharex='col')\n",
        "  zp_iterations = [0, 1, 6]\n",
        "else:\n",
        "  fig, ax = plt.subplots(2, 2, figsize=[10, 10], sharex='col')\n",
        "  zp_iterations = []\n",
        "\n",
        "for i, tf in enumerate(tfs):\n",
        "  i_output = 0\n",
        "  tf.subs(i_output=i_output)\n",
        "  ax[0,0].plot(tf._freqresp_w, np.abs(tf._freqresp_H))\n",
        "  ax[0,0].set_xlim([0, 2])\n",
        "  ax[0,0].set_ylim(H_lims)\n",
        "  ax[0,0].set_xlabel('$\\omega$ (rad)')\n",
        "  ax[0,0].set_ylabel('$|H_1(\\omega)|$ (m / (ms$^{-2}$))')\n",
        "  ax[0,0].set_yscale('log')\n",
        "  ax[0,1].plot(i, tf.H_inf(), marker='o')\n",
        "  ax[0,1].set_ylabel('$H_{1\\infty}$')\n",
        "  ax[0,1].set_xlabel('iteration')\n",
        "  ax[0,1].set_xlim([0, len(tfs)])\n",
        "  ax[0,1].set_ylim(H_lims)\n",
        "  ax[0,1].set_yscale('log')\n",
        "  if i in zp_iterations:\n",
        "    last_color = ax[0,1].lines[-1].get_color()\n",
        "    print(last_color)\n",
        "    zpk = sg.ss2zpk(A=tf.A_num, B=tf.B_num, C=tf.C_num[i_output], D=tf.D_num[i_output])\n",
        "    z, p = zpk[0], zpk[1]\n",
        "    ax[0,2].plot(np.real(z), np.imag(z), marker='o', linestyle='', \n",
        "                 color=last_color, mfc='none')\n",
        "    ax[0,2].plot(np.real(p), np.imag(p), marker='x', linestyle='', \n",
        "                 color=last_color, mfc='none')\n",
        "    ax[0,2].plot([-10, 10], [0, 0], color='black')\n",
        "    ax[0,2].plot([0, 0], [-10, 10], color='black')\n",
        "    ax[0,2].set_ylabel('$H_{1\\infty}$')\n",
        "    ax[0,2].set_xlabel(r'$\\sigma$')\n",
        "    ax[0,2].set_ylabel(r'j $\\omega$')\n",
        "    ax[0,2].set_xlim([-.3, .01])\n",
        "    ax[0,2].set_ylim([-.05, 2])\n",
        "  \n",
        "  i_output = 1\n",
        "  tf.subs(i_output=i_output)\n",
        "  ax[1,0].plot(tf._freqresp_w, np.abs(tf._freqresp_H), label=f\"iteration {i}\")\n",
        "  ax[1,0].set_xlabel('$\\omega$ (rad)')\n",
        "  ax[1,0].set_ylabel('$|H_{12}(\\omega)|$ (m / (ms$^{-2}$))')\n",
        "  ax[1,0].set_xlim([0, 2])\n",
        "  ax[1,0].set_ylim(H_lims)\n",
        "  ax[1,0].set_yscale('log')\n",
        "  ax[1,1].plot(i, tf.H_inf(), marker='o', \n",
        "               label=f\"iteration {i}, b12={round(tf.parameters['b12'],2)}, c12={round(tf.parameters['c12'],2)}\")\n",
        "  ax[1,1].set_ylabel('$H_{12 \\infty}$')\n",
        "  ax[1,1].set_xlabel('iteration')\n",
        "  ax[1,1].legend()\n",
        "  ax[1,1].set_xlim([0, len(tfs)])\n",
        "  ax[1,1].set_ylim(H_lims)\n",
        "  ax[1,1].set_yscale('log')\n",
        "  if i in zp_iterations:\n",
        "    last_color = ax[0,1].lines[-1].get_color()\n",
        "    print(last_color)\n",
        "    zpk = sg.ss2zpk(A=tf.A_num, B=tf.B_num, C=tf.C_num[i_output], D=tf.D_num[i_output])\n",
        "    z, p = zpk[0], zpk[1]\n",
        "    ax[1,2].plot(np.real(z), np.imag(z), marker='o', linestyle='', \n",
        "                 color=last_color, mfc='none')\n",
        "    ax[1,2].plot(np.real(p), np.imag(p), marker='x', linestyle='', \n",
        "                 color=last_color, mfc='none')\n",
        "    ax[1,2].plot([-10, 10], [0, 0], color='black')\n",
        "    ax[1,2].plot([0, 0], [-10, 10], color='black')\n",
        "    ax[1,2].set_ylabel('$H_{1\\infty}$')\n",
        "    ax[1,2].set_xlabel(r'$\\sigma$')\n",
        "    ax[1,2].set_ylabel(r'j $\\omega$')\n",
        "    ax[1,2].set_xlim([-.3, .01])\n",
        "    ax[1,2].set_ylim([-.05, 2])\n",
        "\n",
        "[[ax[i,j].grid(visible=True, which='both', axis='both') \n",
        "for i in range(2)] for j in range(2)]\n",
        "plt.savefig(os.path.join(path,'FRFs_H1_opt.pdf'), bbox_inches='tight')\n",
        "plt.show()"
      ],
      "metadata": {
        "id": "xaiIgM4xS8id"
      },
      "execution_count": null,
      "outputs": []
    },
    {
      "cell_type": "markdown",
      "source": [
        "## Multi objective (Pareto front)"
      ],
      "metadata": {
        "id": "htw5wjfGl-jW"
      }
    },
    {
      "cell_type": "code",
      "source": [
        "run_optimization = False\n",
        "\n",
        "alpha_p = np.linspace(0.1,1,10)\n",
        "lambda_opt_p = np.linspace(0,1,11)\n",
        "if run_optimization:\n",
        "  tfs_p = {}\n",
        "  for i_alpha, alpha in enumerate(alpha_p):\n",
        "    print(f\"Case of alpha = {alpha} ({i_alpha+1}/{len(alpha_p)})\")\n",
        "    front = []\n",
        "    for lambda_opt in lambda_opt_p:\n",
        "      print(f\"  Optimizing with lambda_opt = {lambda_opt} ...\")\n",
        "      tf = TF(A, B, C, D).subs(i_output, par.get_parameters(alpha, 0, 0))\n",
        "      tfs = optim_H_1_H_12_inf(tf, alpha=alpha, lambda_opt=lambda_opt)\n",
        "      front.append(tfs[-1])\n",
        "    tfs_p.update({alpha: front})\n"
      ],
      "metadata": {
        "id": "QXUkCtD4l-jX"
      },
      "execution_count": null,
      "outputs": []
    },
    {
      "cell_type": "code",
      "source": [
        "# dump and load in a pickle file\n",
        "filename = os.path.join(path, 'pareto_raw.pickle')\n",
        "if os.path.isfile(filename) == False:\n",
        "  print('File', filename, 'does not exist, so it is being created...')\n",
        "  with open(filename, \"wb\") as file:\n",
        "    pickle.dump(tfs_p, file)\n",
        "else:\n",
        "  print('File', filename, 'exists, so it is being loaded...')\n",
        "  with open(filename, \"rb\") as file:\n",
        "    tfs_p = pickle.load(file)\n"
      ],
      "metadata": {
        "id": "DpnviIFhLO0i"
      },
      "execution_count": null,
      "outputs": []
    },
    {
      "cell_type": "code",
      "source": [
        "pareto_front_p = {}\n",
        "for alpha in alpha_p:\n",
        "  pareto_front = np.asarray([[tf.H_inf(i_output=0), tf.H_inf(i_output=1)] for tf in tfs_p[alpha]])\n",
        "  pareto_front = pareto_front[pareto_front[:,0].argsort()]\n",
        "  pareto_front_p.update({alpha: pareto_front})\n",
        "  # print(f\"alpha = {alpha}\")\n",
        "  # print(pareto_front)"
      ],
      "metadata": {
        "id": "qCpKFjNUpMKW"
      },
      "execution_count": null,
      "outputs": []
    },
    {
      "cell_type": "markdown",
      "source": [
        "### Benchmark cases"
      ],
      "metadata": {
        "id": "fD9awfHu6Ews"
      }
    },
    {
      "cell_type": "code",
      "source": [
        "run_benchmark = False\n",
        "\n",
        "steps = 50\n",
        "c12_add = np.linspace(0, 200*c1_c, steps)\n",
        "b12_add = np.linspace(0, 20, steps)\n",
        "k12_add = np.linspace(0, 20*k1_c, steps)\n",
        "k12_sub = np.linspace(-k1_c, 0, steps)\n",
        "\n",
        "if run_benchmark:\n",
        "\n",
        "  benchmark_damper_p = {}\n",
        "  benchmark_inerter_p = {}\n",
        "  benchmark_stiffener_p = {}\n",
        "  benchmark_softening_p = {}\n",
        "\n",
        "  for i_alpha, alpha in enumerate(alpha_p):\n",
        "    print(f\"Case of alpha = {alpha} ({i_alpha+1}/{len(alpha_p)})\")\n",
        "    H_1inf_b12_add = lambda x : tf.H_inf(0, \n",
        "                                        par.get_parameters(alpha=alpha, b12_add=x))\n",
        "    H_1inf_c12_add = lambda x : tf.H_inf(0,\n",
        "                                        par.get_parameters(alpha=alpha, c12_add=x))\n",
        "    H_1inf_k12_add = lambda x : tf.H_inf(0,\n",
        "                                        par.get_parameters(alpha=alpha, k12_add=x))  \n",
        "    H_12inf_b12_add = lambda x : tf.H_inf(1,\n",
        "                                          par.get_parameters(alpha=alpha, b12_add=x))\n",
        "    H_12inf_c12_add = lambda x : tf.H_inf(1, \n",
        "                                          par.get_parameters(alpha=alpha, c12_add=x))\n",
        "    H_12inf_k12_add = lambda x : tf.H_inf(1,\n",
        "                                          par.get_parameters(alpha=alpha, k12_add=x))   \n",
        "    # Damper only\n",
        "    benchmark_damper =  np.hstack((np.vectorize(H_1inf_c12_add)(c12_add).reshape(-1,1), np.vectorize(H_12inf_c12_add)(c12_add).reshape(-1,1)))\n",
        "    benchmark_damper_p.update({alpha: benchmark_damper})\n",
        "    # Inerter only\n",
        "    benchmark_inerter = np.hstack((np.vectorize(H_1inf_b12_add)(b12_add).reshape(-1,1), np.vectorize(H_12inf_b12_add)(b12_add).reshape(-1,1)))\n",
        "    benchmark_inerter_p.update({alpha: benchmark_inerter})  \n",
        "    # Stiffener only\n",
        "    benchmark_stiffener = np.hstack((np.vectorize(H_1inf_k12_add)(k12_add).reshape(-1,1), np.vectorize(H_12inf_k12_add)(k12_add).reshape(-1,1)))\n",
        "    benchmark_stiffener_p.update({alpha: benchmark_stiffener})\n",
        "    # Softening only\n",
        "    benchmark_softening = np.hstack((np.vectorize(H_1inf_k12_add)(k12_sub).reshape(-1,1), np.vectorize(H_12inf_k12_add)(k12_sub).reshape(-1,1)))\n",
        "    benchmark_softening_p.update({alpha: benchmark_softening})\n"
      ],
      "metadata": {
        "id": "7VPlrrCj6MZT"
      },
      "execution_count": null,
      "outputs": []
    },
    {
      "cell_type": "code",
      "source": [
        "# dump and load in a pickle file\n",
        "filename_benchmark = os.path.join(path, 'benchmark_cases.pickle')\n",
        "\n",
        "try:\n",
        "  print(f\"benchmark_damper is defined and is: {benchmark_damper[0:3]} ...\")\n",
        "  save_benchmark = True\n",
        "except NameError:\n",
        "  print(\"benchmark_damper is not defined\")\n",
        "  save_benchmark = False\n",
        "\n",
        "if save_benchmark:\n",
        "  print('File', filename_benchmark, 'file is being created...')\n",
        "  if 'tfs_p' in dir():\n",
        "    with open(filename_benchmark, \"wb\") as file_benchmark:\n",
        "      pickle.dump({\n",
        "          'benchmark_damper': benchmark_damper,\n",
        "          'benchmark_damper_p': benchmark_damper_p,\n",
        "          'benchmark_inerter': benchmark_inerter,\n",
        "          'benchmark_inerter_p': benchmark_inerter_p,\n",
        "          'benchmark_stiffener': benchmark_stiffener,\n",
        "          'benchmark_stiffener_p': benchmark_stiffener_p,\n",
        "          'benchmark_softening': benchmark_softening,\n",
        "          'benchmark_softening_p': benchmark_softening_p}, file_benchmark)\n",
        "  else:\n",
        "    print('Pareto multi objetive optimization was not run')\n",
        "\n",
        "if os.path.isfile(filename_benchmark):\n",
        "  print('File', filename_benchmark, 'exists, so it is being loaded...')\n",
        "  with open(filename_benchmark, \"rb\") as file_benchmark:\n",
        "    pickle_dict = pickle.load(file_benchmark)\n",
        "  benchmark_damper = pickle_dict['benchmark_damper']\n",
        "  benchmark_damper_p = pickle_dict['benchmark_damper_p']\n",
        "  benchmark_inerter = pickle_dict['benchmark_inerter']\n",
        "  benchmark_inerter_p = pickle_dict['benchmark_inerter_p']\n",
        "  benchmark_stiffener = pickle_dict['benchmark_stiffener']\n",
        "  benchmark_stiffener_p = pickle_dict['benchmark_stiffener_p']\n",
        "  benchmark_softening = pickle_dict['benchmark_softening']\n",
        "  benchmark_softening_p = pickle_dict['benchmark_softening_p']\n",
        "  "
      ],
      "metadata": {
        "id": "_jAKnetXN2gA"
      },
      "execution_count": null,
      "outputs": []
    },
    {
      "cell_type": "markdown",
      "source": [
        "### Plots"
      ],
      "metadata": {
        "id": "VkjqXkRWn-2Z"
      }
    },
    {
      "cell_type": "code",
      "source": [
        "lambda_step = 2\n",
        "style.use('default')\n",
        "fig_pareto, ax = plt.subplots(1, 2, figsize=[16, 8])\n",
        "for alpha in list(pareto_front_p.keys())[0:5]:\n",
        "  tf = TF(A, B, C, D).subs(i_output, par.get_parameters(alpha, 0, 0))\n",
        "  ax[0].scatter(x=tf.H_inf(i_output=0), y=tf.H_inf(i_output=1))\n",
        "  pareto_front = pareto_front_p[alpha]\n",
        "  w = tf.natural_w(par.get_parameters(alpha, 0, 0))[0:-1:2]\n",
        "  ax[0].plot(pareto_front[:,0], pareto_front[:,1], \n",
        "             label=r\"$\\beta_d$\" + f\"={np.round(alpha, 1)}, \" + \n",
        "             r'$\\zeta$' + f\"= {np.round(w*alpha/2,2)}\",\n",
        "             linewidth=2, marker='o')\n",
        "  ax[0].set_xlabel('$||H_1||_{\\infty}$')\n",
        "  ax[0].set_ylabel('$||H_{12}||_{\\infty}$')\n",
        "  for i_point, point in enumerate(pareto_front[0::lambda_step]):\n",
        "    ax[0].text(x=point[0], y=point[1], s=np.round(lambda_opt_p[0::lambda_step][i_point],1))\n",
        "  # benchmarks\n",
        "  ax[0].plot(benchmark_damper_p[alpha][:,0], benchmark_damper_p[alpha][:,1], \n",
        "             color='grey', linestyle='--',\n",
        "             label='_nolegend_')\n",
        "  ax[0].plot(benchmark_inerter_p[alpha][:,0], benchmark_inerter_p[alpha][:,1], \n",
        "             color='grey', linestyle=':',\n",
        "             label='_nolegend_')\n",
        "  ax[0].plot(benchmark_stiffener_p[alpha][:,0], benchmark_stiffener_p[alpha][:,1], \n",
        "             color='black', linestyle='-',\n",
        "             label='_nolegend_')  \n",
        "ax[0].plot(benchmark_damper_p[alpha][:,0], benchmark_damper_p[alpha][:,1], \n",
        "            color='grey', linestyle='--',\n",
        "            label='damper only')\n",
        "ax[0].plot(benchmark_inerter_p[alpha][:,0], benchmark_inerter_p[alpha][:,1], \n",
        "            color='grey', linestyle=':',\n",
        "            label='inerter only')\n",
        "ax[0].plot(benchmark_stiffener_p[alpha][:,0], benchmark_stiffener_p[alpha][:,1], \n",
        "            color='black', linestyle='-',\n",
        "            label='stiffener only') \n",
        "ax[0].set_ylim((.9,50))\n",
        "ax[0].loglog()\n",
        "ax[0].grid(visible=True, which='both', axis='both')\n",
        "ax[0].legend()\n",
        "\n",
        "for alpha in list(pareto_front_p.keys())[0:5]:\n",
        "  tf = TF(A, B, C, D).subs(i_output, par.get_parameters(alpha, 0, 0))\n",
        "  ax[1].scatter(x=tf.H_inf(i_output=0), y=tf.H_inf(i_output=1))\n",
        "  pareto_front = pareto_front_p[alpha]\n",
        "  w = tf.natural_w(par.get_parameters(alpha, 0, 0))[0:-1:2]\n",
        "  ax[1].plot(pareto_front[:,0], pareto_front[:,1], \n",
        "             label=r\"$\\beta_d$\" + f\"={np.round(alpha, 1)}, \" + \n",
        "             r'$\\zeta$' + f\"= {np.round(w*alpha/2,2)}\",\n",
        "             linewidth=2, marker='o')\n",
        "  ax[1].set_xlabel('$||H_1||_{\\infty}$')\n",
        "  ax[1].set_ylabel('$||H_{12}||_{\\infty}$')\n",
        "  for i_point, point in enumerate(pareto_front[0::lambda_step]):\n",
        "    ax[1].text(x=point[0], y=point[1], s=np.round(lambda_opt_p[0::lambda_step][i_point],1))\n",
        "  # benchmarks\n",
        "  ax[1].plot(benchmark_damper_p[alpha][:,0], benchmark_damper_p[alpha][:,1], \n",
        "             color='grey', linestyle='--',\n",
        "             label='_nolegend_')\n",
        "  ax[1].plot(benchmark_inerter_p[alpha][:,0], benchmark_inerter_p[alpha][:,1], \n",
        "             color='grey', linestyle=':',\n",
        "             label='_nolegend_')\n",
        "  ax[1].plot(benchmark_stiffener_p[alpha][:,0], benchmark_stiffener_p[alpha][:,1], \n",
        "             color='black', linestyle='-',\n",
        "             label='_nolegend_')  \n",
        "ax[1].plot(benchmark_damper_p[alpha][:,0], benchmark_damper_p[alpha][:,1], \n",
        "            color='grey', linestyle='--',\n",
        "            label='damper only')\n",
        "ax[1].plot(benchmark_inerter_p[alpha][:,0], benchmark_inerter_p[alpha][:,1], \n",
        "            color='grey', linestyle=':',\n",
        "            label='inerter only')\n",
        "ax[1].plot(benchmark_stiffener_p[alpha][:,0], benchmark_stiffener_p[alpha][:,1], \n",
        "            color='black', linestyle='-',\n",
        "            label='stiffener only') \n",
        "ax[1].legend(loc='upper right')\n",
        "ax[1].set_xlim((0,30))\n",
        "ax[1].set_ylim((0,5))\n",
        "ax[1].grid(visible=True, which='both', axis='both')\n",
        "\n",
        "plt.show()\n",
        "plt.savefig(os.path.join(path,'pareto.pdf'), bbox_inches='tight')"
      ],
      "metadata": {
        "id": "vrpaaZ5PoAyA"
      },
      "execution_count": null,
      "outputs": []
    },
    {
      "cell_type": "code",
      "source": [
        "lambda_step = 2\n",
        "identity = {'x': range(100), 'y': range(100)}\n",
        "xlims = (3, 40)\n",
        "ylims = (0.9, 50)\n",
        "fig_pareto, ax = plt.subplots(1, 1, figsize=[7, 7])\n",
        "ax.minorticks_on()\n",
        "\n",
        "for alpha in list(pareto_front_p.keys())[0:5]:\n",
        "  tf = TF(A, B, C, D).subs(i_output, par.get_parameters(alpha, 0, 0))\n",
        "  ax.scatter(x=tf.H_inf(i_output=0), y=tf.H_inf(i_output=1))\n",
        "  pareto_front = pareto_front_p[alpha]\n",
        "  w = tf.natural_w(par.get_parameters(alpha, 0, 0))\n",
        "  ax.plot(pareto_front[:,0], pareto_front[:,1], \n",
        "             label=r\"$\\beta_d$\" + f\"={np.round(alpha, 3)}, \" + \n",
        "             r'$\\zeta_s$' + f\"= {np.round(w*alpha/2,2)}\", linewidth=2,\n",
        "             marker='o')\n",
        "  ax.set_xlabel('$||H_1||_{\\infty}$')\n",
        "  ax.set_ylabel('$||H_{12}||_{\\infty}$')\n",
        "  for i_point, point in enumerate(pareto_front[0::lambda_step]):\n",
        "    ax.text(x=point[0], y=point[1], s=np.round(lambda_opt_p[0::lambda_step][i_point],10))\n",
        "  # benchmarks\n",
        "  ax.plot(benchmark_damper_p[alpha][:,0], benchmark_damper_p[alpha][:,1], \n",
        "             color='grey', linestyle='--',\n",
        "             label='_nolegend_')\n",
        "  ax.plot(benchmark_softening_p[alpha][:,0], benchmark_softening_p[alpha][:,1], \n",
        "             color='grey', linestyle='-',\n",
        "             label='_nolegend_') \n",
        "  ax.plot(benchmark_inerter_p[alpha][:,0], benchmark_inerter_p[alpha][:,1], \n",
        "             color='black', linestyle=':',\n",
        "             label='_nolegend_')\n",
        "  ax.plot(benchmark_stiffener_p[alpha][:,0], benchmark_stiffener_p[alpha][:,1], \n",
        "             color='black', linestyle='-',\n",
        "             label='_nolegend_')  \n",
        "\n",
        "ax.plot(benchmark_damper_p[alpha][:,0], benchmark_damper_p[alpha][:,1], \n",
        "            color='grey', linestyle='--',\n",
        "            label='damper only')\n",
        "ax.plot(benchmark_softening_p[alpha][:,0], benchmark_softening_p[alpha][:,1], \n",
        "           color='grey', linestyle='-',\n",
        "           label='softening only') \n",
        "ax.plot(benchmark_inerter_p[alpha][:,0], benchmark_inerter_p[alpha][:,1], \n",
        "            color='black', linestyle=':',\n",
        "            label='inerter only')\n",
        "ax.plot(benchmark_stiffener_p[alpha][:,0], benchmark_stiffener_p[alpha][:,1], \n",
        "            color='black', linestyle='-',\n",
        "            label='stiffener only') \n",
        "\n",
        "ax.plot(identity['x'], identity['y'], color='pink', \n",
        "        label=r'$||H_1||_\\infty = ||H_{12}||_\\infty$')\n",
        "\n",
        "ax.set_xlim(xlims)\n",
        "ax.set_ylim(ylims)\n",
        "ax.loglog()\n",
        "ax.grid(visible=True, which='both', axis='both')\n",
        "ax.legend(loc='upper left')\n",
        "\n",
        "plt.savefig(os.path.join(path,'pareto_theoric.pdf'), bbox_inches='tight')\n",
        "plt.show()"
      ],
      "metadata": {
        "id": "iwRT35kxKDTq"
      },
      "execution_count": null,
      "outputs": []
    }
  ]
}