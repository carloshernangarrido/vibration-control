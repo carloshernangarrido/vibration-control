{
  "nbformat": 4,
  "nbformat_minor": 0,
  "metadata": {
    "colab": {
      "name": "2dof_str_v3.ipynb",
      "provenance": [],
      "authorship_tag": "ABX9TyMJ5AUZszLMn5xYeUkzBI5q",
      "include_colab_link": true
    },
    "kernelspec": {
      "name": "python3",
      "display_name": "Python 3"
    },
    "language_info": {
      "name": "python"
    }
  },
  "cells": [
    {
      "cell_type": "markdown",
      "metadata": {
        "id": "view-in-github",
        "colab_type": "text"
      },
      "source": [
        "<a href=\"https://colab.research.google.com/github/carloshernangarrido/vibration-control/blob/master/2dof_str_v3.ipynb\" target=\"_parent\"><img src=\"https://colab.research.google.com/assets/colab-badge.svg\" alt=\"Open In Colab\"/></a>"
      ]
    },
    {
      "cell_type": "markdown",
      "source": [
        "# Packages"
      ],
      "metadata": {
        "id": "ltJVHAH6c_a1"
      }
    },
    {
      "cell_type": "code",
      "source": [
        "%reset -f\n",
        "\n",
        "from typing import List, Union\n",
        "import sympy as sm\n",
        "\n",
        "# For simulation\n",
        "import numpy as np # provides basic array types and some linear algebra\n",
        "import matplotlib.pyplot as plt # used for plots\n",
        "\n",
        "# For transfer function and state space representations\n",
        "import scipy as sp\n",
        "import scipy.signal as sg\n",
        "eps = 1e-6"
      ],
      "metadata": {
        "id": "5N_wO4ljc87r"
      },
      "execution_count": 584,
      "outputs": []
    },
    {
      "cell_type": "markdown",
      "source": [
        "# System definition"
      ],
      "metadata": {
        "id": "RRKrWBaweguI"
      }
    },
    {
      "cell_type": "markdown",
      "source": [
        "## Structural Equation Of Motion"
      ],
      "metadata": {
        "id": "Gq0988pgQPi8"
      }
    },
    {
      "cell_type": "code",
      "source": [
        "# mass, stiffness and damping\n",
        "m1, c1, k1, m2, c12, k12, t = sm.symbols('m1, c1, k1, m2, c12, k12, t')\n",
        "# inertance\n",
        "b1, b12 = sm.symbols('b1, b12')\n",
        "\n",
        "# mass, stiffness and damping matrices\n",
        "M_s = sm.Matrix([[m1 + b1 + b12, -b12],\n",
        "                 [-b12,           m2 + b12]])\n",
        "\n",
        "K_s = sm.Matrix([[k1 + k12, -k12],\n",
        "                 [-k12,      k12]])\n",
        "\n",
        "C_s = sm.Matrix([[c1 + c12, -c12],\n",
        "                 [-c12,      c12]])\n",
        "\n",
        "# Seismic excitation matrix\n",
        "B_s = sm.Matrix([[m1],\n",
        "                 [m2]])"
      ],
      "metadata": {
        "id": "S9k6g87uem-a"
      },
      "execution_count": 585,
      "outputs": []
    },
    {
      "cell_type": "markdown",
      "source": [
        "## State space representation"
      ],
      "metadata": {
        "id": "jEwwQkXe0cfS"
      }
    },
    {
      "cell_type": "code",
      "source": [
        "# State space\n",
        "# System matrix\n",
        "A = sm.Matrix([[sm.zeros(2,2), sm.eye(2)], \n",
        "               [-M_s.inv()*K_s,    -M_s.inv()*C_s]])\n",
        "# Seismic Input Matrix\n",
        "B = sm.Matrix([[sm.zeros(2,1)],\n",
        "               [-M_s.inv()*B_s]])\n",
        "# Story drift Output Matrix\n",
        "C = sm.Matrix([[1,  0, 0, 0],\n",
        "               [-1, 1, 0, 0]])\n",
        "# Direct Transfer Matrix\n",
        "D = sm.Matrix([[0],\n",
        "               [0]])"
      ],
      "metadata": {
        "id": "A20-nfQehY9p"
      },
      "execution_count": 586,
      "outputs": []
    },
    {
      "cell_type": "code",
      "source": [
        "sm.simplify(A)"
      ],
      "metadata": {
        "colab": {
          "base_uri": "https://localhost:8080/",
          "height": 108
        },
        "id": "XBhWL1z1Onwa",
        "outputId": "879eb774-3f52-46a7-c9f0-9d26578b2370"
      },
      "execution_count": 587,
      "outputs": [
        {
          "output_type": "execute_result",
          "data": {
            "text/plain": [
              "Matrix([\n",
              "[                                                                           0,                                                         0,                                                                            1,                                                         0],\n",
              "[                                                                           0,                                                         0,                                                                            0,                                                         1],\n",
              "[(b12*k12 - (b12 + m2)*(k1 + k12))/(b1*b12 + b1*m2 + b12*m1 + b12*m2 + m1*m2),         k12*m2/(b1*b12 + b1*m2 + b12*m1 + b12*m2 + m1*m2), (b12*c12 - (b12 + m2)*(c1 + c12))/(b1*b12 + b1*m2 + b12*m1 + b12*m2 + m1*m2),         c12*m2/(b1*b12 + b1*m2 + b12*m1 + b12*m2 + m1*m2)],\n",
              "[       (b1*k12 - b12*k1 + k12*m1)/(b1*b12 + b1*m2 + b12*m1 + b12*m2 + m1*m2), -k12*(b1 + m1)/(b1*b12 + b1*m2 + b12*m1 + b12*m2 + m1*m2),        (b1*c12 - b12*c1 + c12*m1)/(b1*b12 + b1*m2 + b12*m1 + b12*m2 + m1*m2), -c12*(b1 + m1)/(b1*b12 + b1*m2 + b12*m1 + b12*m2 + m1*m2)]])"
            ],
            "text/latex": "$\\displaystyle \\left[\\begin{matrix}0 & 0 & 1 & 0\\\\0 & 0 & 0 & 1\\\\\\frac{b_{12} k_{12} - \\left(b_{12} + m_{2}\\right) \\left(k_{1} + k_{12}\\right)}{b_{1} b_{12} + b_{1} m_{2} + b_{12} m_{1} + b_{12} m_{2} + m_{1} m_{2}} & \\frac{k_{12} m_{2}}{b_{1} b_{12} + b_{1} m_{2} + b_{12} m_{1} + b_{12} m_{2} + m_{1} m_{2}} & \\frac{b_{12} c_{12} - \\left(b_{12} + m_{2}\\right) \\left(c_{1} + c_{12}\\right)}{b_{1} b_{12} + b_{1} m_{2} + b_{12} m_{1} + b_{12} m_{2} + m_{1} m_{2}} & \\frac{c_{12} m_{2}}{b_{1} b_{12} + b_{1} m_{2} + b_{12} m_{1} + b_{12} m_{2} + m_{1} m_{2}}\\\\\\frac{b_{1} k_{12} - b_{12} k_{1} + k_{12} m_{1}}{b_{1} b_{12} + b_{1} m_{2} + b_{12} m_{1} + b_{12} m_{2} + m_{1} m_{2}} & - \\frac{k_{12} \\left(b_{1} + m_{1}\\right)}{b_{1} b_{12} + b_{1} m_{2} + b_{12} m_{1} + b_{12} m_{2} + m_{1} m_{2}} & \\frac{b_{1} c_{12} - b_{12} c_{1} + c_{12} m_{1}}{b_{1} b_{12} + b_{1} m_{2} + b_{12} m_{1} + b_{12} m_{2} + m_{1} m_{2}} & - \\frac{c_{12} \\left(b_{1} + m_{1}\\right)}{b_{1} b_{12} + b_{1} m_{2} + b_{12} m_{1} + b_{12} m_{2} + m_{1} m_{2}}\\end{matrix}\\right]$"
          },
          "metadata": {},
          "execution_count": 587
        }
      ]
    },
    {
      "cell_type": "code",
      "source": [
        "sm.simplify(B)"
      ],
      "metadata": {
        "colab": {
          "base_uri": "https://localhost:8080/",
          "height": 108
        },
        "id": "15IdRn0Lna0O",
        "outputId": "d22be91c-f29a-4381-c231-568600c92f0c"
      },
      "execution_count": 588,
      "outputs": [
        {
          "output_type": "execute_result",
          "data": {
            "text/plain": [
              "Matrix([\n",
              "[                                                                        0],\n",
              "[                                                                        0],\n",
              "[     -(b12*m2 + m1*(b12 + m2))/(b1*b12 + b1*m2 + b12*m1 + b12*m2 + m1*m2)],\n",
              "[-(b12*m1 + m2*(b1 + b12 + m1))/(b1*b12 + b1*m2 + b12*m1 + b12*m2 + m1*m2)]])"
            ],
            "text/latex": "$\\displaystyle \\left[\\begin{matrix}0\\\\0\\\\- \\frac{b_{12} m_{2} + m_{1} \\left(b_{12} + m_{2}\\right)}{b_{1} b_{12} + b_{1} m_{2} + b_{12} m_{1} + b_{12} m_{2} + m_{1} m_{2}}\\\\- \\frac{b_{12} m_{1} + m_{2} \\left(b_{1} + b_{12} + m_{1}\\right)}{b_{1} b_{12} + b_{1} m_{2} + b_{12} m_{1} + b_{12} m_{2} + m_{1} m_{2}}\\end{matrix}\\right]$"
          },
          "metadata": {},
          "execution_count": 588
        }
      ]
    },
    {
      "cell_type": "code",
      "source": [
        "sm.simplify(C)"
      ],
      "metadata": {
        "colab": {
          "base_uri": "https://localhost:8080/",
          "height": 58
        },
        "id": "R0rIIlRpOp_V",
        "outputId": "6a2e9e8f-27db-4c33-cbed-bf5f25316d59"
      },
      "execution_count": 589,
      "outputs": [
        {
          "output_type": "execute_result",
          "data": {
            "text/plain": [
              "Matrix([\n",
              "[ 1, 0, 0, 0],\n",
              "[-1, 1, 0, 0]])"
            ],
            "text/latex": "$\\displaystyle \\left[\\begin{matrix}1 & 0 & 0 & 0\\\\-1 & 1 & 0 & 0\\end{matrix}\\right]$"
          },
          "metadata": {},
          "execution_count": 589
        }
      ]
    },
    {
      "cell_type": "code",
      "source": [
        "sm.simplify(D)"
      ],
      "metadata": {
        "colab": {
          "base_uri": "https://localhost:8080/",
          "height": 58
        },
        "id": "bShps-y_V5sa",
        "outputId": "035337ca-b851-4a09-fb3d-fc1ddd1cc300"
      },
      "execution_count": 590,
      "outputs": [
        {
          "output_type": "execute_result",
          "data": {
            "text/plain": [
              "Matrix([\n",
              "[0],\n",
              "[0]])"
            ],
            "text/latex": "$\\displaystyle \\left[\\begin{matrix}0\\\\0\\end{matrix}\\right]$"
          },
          "metadata": {},
          "execution_count": 590
        }
      ]
    },
    {
      "cell_type": "code",
      "source": [
        "D.shape"
      ],
      "metadata": {
        "colab": {
          "base_uri": "https://localhost:8080/"
        },
        "id": "ft0PhK85W4x6",
        "outputId": "df83f980-8736-498b-ec60-43e2668e54a8"
      },
      "execution_count": 591,
      "outputs": [
        {
          "output_type": "execute_result",
          "data": {
            "text/plain": [
              "(2, 1)"
            ]
          },
          "metadata": {},
          "execution_count": 591
        }
      ]
    },
    {
      "cell_type": "markdown",
      "source": [
        "## Frequency domain"
      ],
      "metadata": {
        "id": "G0xwFeyqQyjJ"
      }
    },
    {
      "cell_type": "markdown",
      "source": [
        "### Classes"
      ],
      "metadata": {
        "id": "C1RWOSCgfLh2"
      }
    },
    {
      "cell_type": "code",
      "source": [
        "class TF:\n",
        "  def __init__(self, A, B, C, D, \n",
        "               w = np.linspace(0, 10, 10000)):\n",
        "    self.w = w\n",
        "    self.A = A\n",
        "    self.B = B\n",
        "    self.C = C\n",
        "    self.D = D\n",
        "\n",
        "  def subs(self, i_output, parameters):\n",
        "    self.A_num = np.array(self.A.subs(parameters), dtype=float)\n",
        "    self.B_num = np.array(self.B.subs(parameters), dtype=float)\n",
        "    self.C_num = np.array(self.C.subs(parameters), dtype=float)\n",
        "    self.D_num = np.array(self.D.subs(parameters), dtype=float)\n",
        "    self._num, self.den = sg.ss2tf(self.A_num, self.B_num, \n",
        "                                  self.C_num[i_output], self.D_num[i_output])\n",
        "    for i, coef in enumerate(self._num[0]):\n",
        "      if abs(coef) > eps:\n",
        "        break\n",
        "    self.num = self._num[0, i:]              \n",
        "    self._tf = sg.lti(self.num, self.den)\n",
        "    self._freqresp_w, self._freqresp_H = self._tf.freqresp(w=self.w)\n",
        "    return self\n",
        "    \n",
        "  def H_inf(self, i_output, parameters):\n",
        "    self.subs(i_output, parameters)\n",
        "    return np.linalg.norm(self._freqresp_H, ord=np.inf)\n",
        "\n",
        "  def H_2(self, i_output, parameters):\n",
        "    self.subs(i_output, parameters)\n",
        "    return np.linalg.norm(self._freqresp_H, ord=2)\n",
        "\n",
        "  def natural_w(self, parameters):\n",
        "    self.subs(0, parameters)\n",
        "    return np.sort(np.abs(np.linalg.eigvals(self.A_num)))\n"
      ],
      "metadata": {
        "id": "4AtvuWHpfNeh"
      },
      "execution_count": 592,
      "outputs": []
    },
    {
      "cell_type": "markdown",
      "source": [
        "# Base parameters"
      ],
      "metadata": {
        "id": "RkvaZAz6kowH"
      }
    },
    {
      "cell_type": "markdown",
      "source": [
        "## Classes"
      ],
      "metadata": {
        "id": "UFcPOElV7lAL"
      }
    },
    {
      "cell_type": "code",
      "source": [
        "class Parameters:\n",
        "  def __init__(self, base_parameters):\n",
        "    self.base_parameters = base_parameters\n",
        "  \n",
        "  def get_parameters(self, alpha, b12_add, c12_add):\n",
        "    parameters = self.base_parameters.copy()\n",
        "    parameters['c1'] = alpha*parameters['k1']\n",
        "    parameters['c12'] = alpha*parameters['k12']\n",
        "    parameters['b12'] += b12_add\n",
        "    parameters['c12'] += c12_add\n",
        "    return parameters"
      ],
      "metadata": {
        "id": "NIBhP0br7nOv"
      },
      "execution_count": 593,
      "outputs": []
    },
    {
      "cell_type": "markdown",
      "source": [
        "## Values"
      ],
      "metadata": {
        "id": "8zukTT-waph7"
      }
    },
    {
      "cell_type": "code",
      "source": [
        "## constans\n",
        "# stiffness-proportional damping coefficient\n",
        "alpha = 0.1\n",
        "\n",
        "k1_c = 1\n",
        "c1_c = alpha*k1_c\n",
        "m1_c = 1\n",
        "k12_c = 1\n",
        "c12_c = alpha*k12_c\n",
        "m2_c = 1\n",
        "b1_c = 0\n",
        "b12_c = 0\n",
        "\n",
        "base_parameters = {'k1':  k1_c,\n",
        "                   'c1':  c1_c,\n",
        "                   'm1':  m1_c,\n",
        "                   'k12': k12_c,\n",
        "                   'c12': c12_c,\n",
        "                   'm2':  m2_c,\n",
        "                   'b1':  b1_c,\n",
        "                   'b12': b12_c}\n",
        "\n",
        "par = Parameters(base_parameters)\n",
        "\n",
        "i_output = 0\n",
        "tf = TF(A, B, C, D).subs(i_output, par.get_parameters(alpha,0,0.1))\n",
        "print(tf._tf)"
      ],
      "metadata": {
        "colab": {
          "base_uri": "https://localhost:8080/"
        },
        "id": "XSyOBaSsQ1Ul",
        "outputId": "1b9f43b5-eb0b-44c2-d76c-f97f3e2cee74"
      },
      "execution_count": 594,
      "outputs": [
        {
          "output_type": "stream",
          "name": "stdout",
          "text": [
            "TransferFunctionContinuous(\n",
            "array([-1. , -0.4, -2. ]),\n",
            "array([1.  , 0.5 , 3.02, 0.3 , 1.  ]),\n",
            "dt: None\n",
            ")\n"
          ]
        }
      ]
    },
    {
      "cell_type": "markdown",
      "source": [
        "# Parametric analysis"
      ],
      "metadata": {
        "id": "-zUeJQq87LVK"
      }
    },
    {
      "cell_type": "markdown",
      "source": [
        "## Functions"
      ],
      "metadata": {
        "id": "siv55jGafFnS"
      }
    },
    {
      "cell_type": "code",
      "source": [
        "steps = 10\n",
        "c12_add = np.linspace(0, 100*c1_c, steps)\n",
        "b12_add = np.linspace(0, 10, steps)\n",
        "\n",
        "alpha = .1\n",
        "tf = TF(A, B, C, D)\n",
        "H_1inf_b12_add = lambda x : tf.H_inf(0, \n",
        "                                     par.get_parameters(alpha=alpha, b12_add=x, c12_add=0))\n",
        "H_1inf_c12_add = lambda x : tf.H_inf(0, \n",
        "                                     par.get_parameters(alpha=alpha, b12_add=0, c12_add=x))\n",
        "H_12inf_b12_add = lambda x : tf.H_inf(1,\n",
        "                                      par.get_parameters(alpha=alpha, b12_add=x, c12_add=0))\n",
        "H_12inf_c12_add = lambda x : tf.H_inf(1, \n",
        "                                      par.get_parameters(alpha=alpha, b12_add=0, c12_add=x))\n",
        "\n",
        "def damping_ratio(alpha, w):\n",
        "  return alpha*w/2\n",
        "\n",
        "natural_freqs = tf.natural_w(par.get_parameters(alpha=alpha, b12_add=0, c12_add=0))\n",
        "print(f'natural frequencies = {natural_freqs} rad/s')\n",
        "print(f'damping ratios = {[damping_ratio(alpha,w) for w in natural_freqs]}')"
      ],
      "metadata": {
        "colab": {
          "base_uri": "https://localhost:8080/"
        },
        "id": "tit8qtpVfHUn",
        "outputId": "0798adc6-a350-4c18-b77f-5124ac9167c7"
      },
      "execution_count": 595,
      "outputs": [
        {
          "output_type": "stream",
          "name": "stdout",
          "text": [
            "natural frequencies = [0.61803399 0.61803399 1.61803399 1.61803399] rad/s\n",
            "damping ratios = [0.03090169943749473, 0.03090169943749473, 0.08090169943749477, 0.08090169943749477]\n"
          ]
        }
      ]
    },
    {
      "cell_type": "markdown",
      "source": [
        "## Plots"
      ],
      "metadata": {
        "id": "BzwXtiYOfIFk"
      }
    },
    {
      "cell_type": "code",
      "source": [
        "fig, ax = plt.subplots(2, 2, figsize=[10, 5], sharex=True, sharey=True)\n",
        "\n",
        "[[elem.grid(which='both', axis='both') for elem in row] for row in ax]\n",
        "\n",
        "ax[0,0].plot(c12_add, np.vectorize(H_1inf_c12_add)(c12_add))\n",
        "ax[0,0].set_xlabel('$c_{12add}$')\n",
        "ax[0,0].set_ylabel('$H_{1\\infty}$')\n",
        "ax[0,1].plot(b12_add, np.vectorize(H_1inf_b12_add)(b12_add))\n",
        "ax[0,1].set_xlabel('$b_{12add}$')\n",
        "\n",
        "ax[1,0].plot(c12_add, np.vectorize(H_12inf_c12_add)(c12_add))\n",
        "ax[1,0].set_xlabel('$c_{12add}$')\n",
        "ax[1,0].set_ylabel('$H_{12\\infty}$')\n",
        "ax[1,1].plot(b12_add, np.vectorize(H_12inf_b12_add)(b12_add))\n",
        "ax[1,1].set_xlabel('$b_{12add}$')\n"
      ],
      "metadata": {
        "colab": {
          "base_uri": "https://localhost:8080/",
          "height": 355
        },
        "id": "OWE_p0A47PBc",
        "outputId": "d9fbf4e5-0252-439f-db85-baa237e97055"
      },
      "execution_count": 596,
      "outputs": [
        {
          "output_type": "execute_result",
          "data": {
            "text/plain": [
              "Text(0.5, 0, '$b_{12add}$')"
            ]
          },
          "metadata": {},
          "execution_count": 596
        },
        {
          "output_type": "display_data",
          "data": {
            "text/plain": [
              "<Figure size 720x360 with 4 Axes>"
            ],
            "image/png": "[encoded data removed]"
          },
          "metadata": {
            "needs_background": "light"
          }
        }
      ]
    },
    {
      "cell_type": "markdown",
      "source": [
        "# Optimization"
      ],
      "metadata": {
        "id": "vgH_qbkA6oIV"
      }
    },
    {
      "cell_type": "markdown",
      "source": [
        "## Classes"
      ],
      "metadata": {
        "id": "HU819z508Ncl"
      }
    },
    {
      "cell_type": "code",
      "source": [
        ""
      ],
      "metadata": {
        "id": "ys3zk64F8MtV"
      },
      "execution_count": null,
      "outputs": []
    },
    {
      "cell_type": "code",
      "source": [
        "alpha_p = np.linspace(.01, 1, 10)\n",
        "\n"
      ],
      "metadata": {
        "id": "wtkqWBff6q1P"
      },
      "execution_count": 597,
      "outputs": []
    }
  ]
}